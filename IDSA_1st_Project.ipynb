{
 "cells": [
  {
   "cell_type": "code",
   "execution_count": 57,
   "metadata": {
    "id": "MCBpyniiZMhm"
   },
   "outputs": [],
   "source": [
    "import numpy as np\n",
    "import pandas as pd\n",
    "import matplotlib.pyplot as plt\n",
    "import seaborn as sns\n",
    "import datetime\n",
    "import plotly.express as px\n"
   ]
  },
  {
   "cell_type": "code",
   "execution_count": 58,
   "metadata": {},
   "outputs": [],
   "source": [
    "df220423=pd.read_csv('C:/Users/mehmet/Documents/1_IST_DATA_SCI_ACA/1_proje/data/turnstile_220423.csv')\n",
    "df220430=pd.read_csv('C:/Users/mehmet/Documents/1_IST_DATA_SCI_ACA/1_proje/data/turnstile_220430.csv')\n",
    "df220507=pd.read_csv('C:/Users/mehmet/Documents/1_IST_DATA_SCI_ACA/1_proje/data/turnstile_220507.csv')\n",
    "df220514=pd.read_csv('C:/Users/mehmet/Documents/1_IST_DATA_SCI_ACA/1_proje/data/turnstile_220514.csv')\n",
    "df220521=pd.read_csv('C:/Users/mehmet/Documents/1_IST_DATA_SCI_ACA/1_proje/data/turnstile_220521.csv')\n",
    "df220528=pd.read_csv('C:/Users/mehmet/Documents/1_IST_DATA_SCI_ACA/1_proje/data/turnstile_220528.csv')\n",
    "df220604=pd.read_csv('C:/Users/mehmet/Documents/1_IST_DATA_SCI_ACA/1_proje/data/turnstile_220604.csv')\n",
    "df220611=pd.read_csv('C:/Users/mehmet/Documents/1_IST_DATA_SCI_ACA/1_proje/data/turnstile_220611.csv')\n",
    "\n",
    "df_raw= pd.concat([df220423,df220430,df220507,df220514,df220521,df220528,df220604,df220611])\n",
    "df_raw.to_csv('C:/Users/mehmet/Documents/1_IST_DATA_SCI_ACA/1_proje/data/df_raw_all.csv',index=False)"
   ]
  },
  {
   "cell_type": "code",
   "execution_count": 59,
   "metadata": {},
   "outputs": [
    {
     "data": {
      "text/plain": [
       "(1689579, 11)"
      ]
     },
     "execution_count": 59,
     "metadata": {},
     "output_type": "execute_result"
    }
   ],
   "source": [
    "df_raw.shape"
   ]
  },
  {
   "cell_type": "code",
   "execution_count": 60,
   "metadata": {
    "colab": {
     "base_uri": "https://localhost:8080/"
    },
    "id": "0EofKFUyzklU",
    "outputId": "b73761a0-009f-48f7-e98a-f589cb6f6583",
    "scrolled": false
   },
   "outputs": [
    {
     "name": "stdout",
     "output_type": "stream",
     "text": [
      "<class 'pandas.core.frame.DataFrame'>\n",
      "Int64Index: 1689579 entries, 0 to 211246\n",
      "Data columns (total 11 columns):\n",
      " #   Column                                                                Non-Null Count    Dtype \n",
      "---  ------                                                                --------------    ----- \n",
      " 0   C/A                                                                   1689579 non-null  object\n",
      " 1   UNIT                                                                  1689579 non-null  object\n",
      " 2   SCP                                                                   1689579 non-null  object\n",
      " 3   STATION                                                               1689579 non-null  object\n",
      " 4   LINENAME                                                              1689579 non-null  object\n",
      " 5   DIVISION                                                              1689579 non-null  object\n",
      " 6   DATE                                                                  1689579 non-null  object\n",
      " 7   TIME                                                                  1689579 non-null  object\n",
      " 8   DESC                                                                  1689579 non-null  object\n",
      " 9   ENTRIES                                                               1689579 non-null  int64 \n",
      " 10  EXITS                                                                 1689579 non-null  int64 \n",
      "dtypes: int64(2), object(9)\n",
      "memory usage: 154.7+ MB\n"
     ]
    }
   ],
   "source": [
    "df_raw.info()"
   ]
  },
  {
   "cell_type": "code",
   "execution_count": 61,
   "metadata": {
    "colab": {
     "base_uri": "https://localhost:8080/"
    },
    "id": "fH-m_rGVzkp0",
    "outputId": "fabed294-a63e-40cf-e239-8ed40b25ab1a"
   },
   "outputs": [
    {
     "data": {
      "text/plain": [
       "0"
      ]
     },
     "execution_count": 61,
     "metadata": {},
     "output_type": "execute_result"
    }
   ],
   "source": [
    "df_raw.duplicated().sum()"
   ]
  },
  {
   "cell_type": "code",
   "execution_count": 62,
   "metadata": {
    "colab": {
     "base_uri": "https://localhost:8080/"
    },
    "id": "96rB4R43bY5N",
    "outputId": "0ef3c865-1ea9-43b1-d5a2-713a23ccecf5",
    "scrolled": true
   },
   "outputs": [
    {
     "data": {
      "text/plain": [
       "Index(['C/A', 'UNIT', 'SCP', 'STATION', 'LINENAME', 'DIVISION', 'DATE', 'TIME',\n",
       "       'DESC', 'ENTRIES',\n",
       "       'EXITS                                                               '],\n",
       "      dtype='object')"
      ]
     },
     "execution_count": 62,
     "metadata": {},
     "output_type": "execute_result"
    }
   ],
   "source": [
    "df_raw.columns"
   ]
  },
  {
   "cell_type": "code",
   "execution_count": 63,
   "metadata": {},
   "outputs": [],
   "source": [
    "df_raw.rename(columns={df_raw.columns[10]:'EXITS'},inplace=True)"
   ]
  },
  {
   "cell_type": "code",
   "execution_count": 64,
   "metadata": {
    "colab": {
     "base_uri": "https://localhost:8080/"
    },
    "id": "MiM0En7azkr2",
    "outputId": "56e28b37-d203-4cd8-b32a-34426c270f34",
    "scrolled": true
   },
   "outputs": [
    {
     "data": {
      "text/plain": [
       "C/A             753\n",
       "UNIT            470\n",
       "SCP             224\n",
       "STATION         379\n",
       "LINENAME        114\n",
       "DIVISION          6\n",
       "DATE             56\n",
       "TIME          44352\n",
       "DESC              2\n",
       "ENTRIES     1226076\n",
       "EXITS       1180175\n",
       "dtype: int64"
      ]
     },
     "execution_count": 64,
     "metadata": {},
     "output_type": "execute_result"
    }
   ],
   "source": [
    "df_raw.nunique()"
   ]
  },
  {
   "cell_type": "code",
   "execution_count": 65,
   "metadata": {
    "scrolled": false
   },
   "outputs": [
    {
     "data": {
      "text/html": [
       "<div>\n",
       "<style scoped>\n",
       "    .dataframe tbody tr th:only-of-type {\n",
       "        vertical-align: middle;\n",
       "    }\n",
       "\n",
       "    .dataframe tbody tr th {\n",
       "        vertical-align: top;\n",
       "    }\n",
       "\n",
       "    .dataframe thead th {\n",
       "        text-align: right;\n",
       "    }\n",
       "</style>\n",
       "<table border=\"1\" class=\"dataframe\">\n",
       "  <thead>\n",
       "    <tr style=\"text-align: right;\">\n",
       "      <th></th>\n",
       "      <th>C/A</th>\n",
       "      <th>UNIT</th>\n",
       "      <th>SCP</th>\n",
       "      <th>STATION</th>\n",
       "      <th>LINENAME</th>\n",
       "      <th>DIVISION</th>\n",
       "      <th>DATE</th>\n",
       "      <th>TIME</th>\n",
       "      <th>DESC</th>\n",
       "      <th>ENTRIES</th>\n",
       "      <th>EXITS</th>\n",
       "    </tr>\n",
       "  </thead>\n",
       "  <tbody>\n",
       "    <tr>\n",
       "      <th>0</th>\n",
       "      <td>A002</td>\n",
       "      <td>R051</td>\n",
       "      <td>02-00-00</td>\n",
       "      <td>59 ST</td>\n",
       "      <td>NQR456W</td>\n",
       "      <td>BMT</td>\n",
       "      <td>04/16/2022</td>\n",
       "      <td>00:00:00</td>\n",
       "      <td>REGULAR</td>\n",
       "      <td>7702257</td>\n",
       "      <td>2693154</td>\n",
       "    </tr>\n",
       "    <tr>\n",
       "      <th>1</th>\n",
       "      <td>A002</td>\n",
       "      <td>R051</td>\n",
       "      <td>02-00-00</td>\n",
       "      <td>59 ST</td>\n",
       "      <td>NQR456W</td>\n",
       "      <td>BMT</td>\n",
       "      <td>04/16/2022</td>\n",
       "      <td>04:00:00</td>\n",
       "      <td>REGULAR</td>\n",
       "      <td>7702260</td>\n",
       "      <td>2693158</td>\n",
       "    </tr>\n",
       "    <tr>\n",
       "      <th>2</th>\n",
       "      <td>A002</td>\n",
       "      <td>R051</td>\n",
       "      <td>02-00-00</td>\n",
       "      <td>59 ST</td>\n",
       "      <td>NQR456W</td>\n",
       "      <td>BMT</td>\n",
       "      <td>04/16/2022</td>\n",
       "      <td>08:00:00</td>\n",
       "      <td>REGULAR</td>\n",
       "      <td>7702266</td>\n",
       "      <td>2693179</td>\n",
       "    </tr>\n",
       "    <tr>\n",
       "      <th>3</th>\n",
       "      <td>A002</td>\n",
       "      <td>R051</td>\n",
       "      <td>02-00-00</td>\n",
       "      <td>59 ST</td>\n",
       "      <td>NQR456W</td>\n",
       "      <td>BMT</td>\n",
       "      <td>04/16/2022</td>\n",
       "      <td>12:00:00</td>\n",
       "      <td>REGULAR</td>\n",
       "      <td>7702282</td>\n",
       "      <td>2693270</td>\n",
       "    </tr>\n",
       "    <tr>\n",
       "      <th>4</th>\n",
       "      <td>A002</td>\n",
       "      <td>R051</td>\n",
       "      <td>02-00-00</td>\n",
       "      <td>59 ST</td>\n",
       "      <td>NQR456W</td>\n",
       "      <td>BMT</td>\n",
       "      <td>04/16/2022</td>\n",
       "      <td>16:00:00</td>\n",
       "      <td>REGULAR</td>\n",
       "      <td>7702325</td>\n",
       "      <td>2693324</td>\n",
       "    </tr>\n",
       "    <tr>\n",
       "      <th>...</th>\n",
       "      <td>...</td>\n",
       "      <td>...</td>\n",
       "      <td>...</td>\n",
       "      <td>...</td>\n",
       "      <td>...</td>\n",
       "      <td>...</td>\n",
       "      <td>...</td>\n",
       "      <td>...</td>\n",
       "      <td>...</td>\n",
       "      <td>...</td>\n",
       "      <td>...</td>\n",
       "    </tr>\n",
       "    <tr>\n",
       "      <th>211242</th>\n",
       "      <td>TRAM2</td>\n",
       "      <td>R469</td>\n",
       "      <td>00-05-01</td>\n",
       "      <td>RIT-ROOSEVELT</td>\n",
       "      <td>R</td>\n",
       "      <td>RIT</td>\n",
       "      <td>06/10/2022</td>\n",
       "      <td>05:00:00</td>\n",
       "      <td>REGULAR</td>\n",
       "      <td>0</td>\n",
       "      <td>488</td>\n",
       "    </tr>\n",
       "    <tr>\n",
       "      <th>211243</th>\n",
       "      <td>TRAM2</td>\n",
       "      <td>R469</td>\n",
       "      <td>00-05-01</td>\n",
       "      <td>RIT-ROOSEVELT</td>\n",
       "      <td>R</td>\n",
       "      <td>RIT</td>\n",
       "      <td>06/10/2022</td>\n",
       "      <td>09:00:00</td>\n",
       "      <td>REGULAR</td>\n",
       "      <td>0</td>\n",
       "      <td>488</td>\n",
       "    </tr>\n",
       "    <tr>\n",
       "      <th>211244</th>\n",
       "      <td>TRAM2</td>\n",
       "      <td>R469</td>\n",
       "      <td>00-05-01</td>\n",
       "      <td>RIT-ROOSEVELT</td>\n",
       "      <td>R</td>\n",
       "      <td>RIT</td>\n",
       "      <td>06/10/2022</td>\n",
       "      <td>13:00:00</td>\n",
       "      <td>REGULAR</td>\n",
       "      <td>0</td>\n",
       "      <td>489</td>\n",
       "    </tr>\n",
       "    <tr>\n",
       "      <th>211245</th>\n",
       "      <td>TRAM2</td>\n",
       "      <td>R469</td>\n",
       "      <td>00-05-01</td>\n",
       "      <td>RIT-ROOSEVELT</td>\n",
       "      <td>R</td>\n",
       "      <td>RIT</td>\n",
       "      <td>06/10/2022</td>\n",
       "      <td>17:00:00</td>\n",
       "      <td>REGULAR</td>\n",
       "      <td>0</td>\n",
       "      <td>490</td>\n",
       "    </tr>\n",
       "    <tr>\n",
       "      <th>211246</th>\n",
       "      <td>TRAM2</td>\n",
       "      <td>R469</td>\n",
       "      <td>00-05-01</td>\n",
       "      <td>RIT-ROOSEVELT</td>\n",
       "      <td>R</td>\n",
       "      <td>RIT</td>\n",
       "      <td>06/10/2022</td>\n",
       "      <td>21:00:00</td>\n",
       "      <td>REGULAR</td>\n",
       "      <td>0</td>\n",
       "      <td>492</td>\n",
       "    </tr>\n",
       "  </tbody>\n",
       "</table>\n",
       "<p>1689579 rows × 11 columns</p>\n",
       "</div>"
      ],
      "text/plain": [
       "          C/A  UNIT       SCP        STATION LINENAME DIVISION        DATE  \\\n",
       "0        A002  R051  02-00-00          59 ST  NQR456W      BMT  04/16/2022   \n",
       "1        A002  R051  02-00-00          59 ST  NQR456W      BMT  04/16/2022   \n",
       "2        A002  R051  02-00-00          59 ST  NQR456W      BMT  04/16/2022   \n",
       "3        A002  R051  02-00-00          59 ST  NQR456W      BMT  04/16/2022   \n",
       "4        A002  R051  02-00-00          59 ST  NQR456W      BMT  04/16/2022   \n",
       "...       ...   ...       ...            ...      ...      ...         ...   \n",
       "211242  TRAM2  R469  00-05-01  RIT-ROOSEVELT        R      RIT  06/10/2022   \n",
       "211243  TRAM2  R469  00-05-01  RIT-ROOSEVELT        R      RIT  06/10/2022   \n",
       "211244  TRAM2  R469  00-05-01  RIT-ROOSEVELT        R      RIT  06/10/2022   \n",
       "211245  TRAM2  R469  00-05-01  RIT-ROOSEVELT        R      RIT  06/10/2022   \n",
       "211246  TRAM2  R469  00-05-01  RIT-ROOSEVELT        R      RIT  06/10/2022   \n",
       "\n",
       "            TIME     DESC  ENTRIES    EXITS  \n",
       "0       00:00:00  REGULAR  7702257  2693154  \n",
       "1       04:00:00  REGULAR  7702260  2693158  \n",
       "2       08:00:00  REGULAR  7702266  2693179  \n",
       "3       12:00:00  REGULAR  7702282  2693270  \n",
       "4       16:00:00  REGULAR  7702325  2693324  \n",
       "...          ...      ...      ...      ...  \n",
       "211242  05:00:00  REGULAR        0      488  \n",
       "211243  09:00:00  REGULAR        0      488  \n",
       "211244  13:00:00  REGULAR        0      489  \n",
       "211245  17:00:00  REGULAR        0      490  \n",
       "211246  21:00:00  REGULAR        0      492  \n",
       "\n",
       "[1689579 rows x 11 columns]"
      ]
     },
     "execution_count": 65,
     "metadata": {},
     "output_type": "execute_result"
    }
   ],
   "source": [
    "df_raw"
   ]
  },
  {
   "cell_type": "code",
   "execution_count": 66,
   "metadata": {},
   "outputs": [],
   "source": [
    "df_raw['TURNSTILE']=df_raw['C/A']+' '+df_raw['UNIT']+' '+df_raw['SCP']\n",
    "df_raw['DATETIME']=df_raw['DATE']+' '+df_raw['TIME']"
   ]
  },
  {
   "cell_type": "code",
   "execution_count": 67,
   "metadata": {
    "scrolled": true
   },
   "outputs": [],
   "source": [
    "df_raw.sort_values(by=[\"TURNSTILE\",'DATETIME'],inplace=True) "
   ]
  },
  {
   "cell_type": "code",
   "execution_count": 68,
   "metadata": {},
   "outputs": [],
   "source": [
    "df_raw['DATE']=pd.to_datetime(df_raw['DATE'].astype(str), format='%m/%d/%Y') #chaging date format, define date format via format=''"
   ]
  },
  {
   "cell_type": "code",
   "execution_count": 69,
   "metadata": {},
   "outputs": [],
   "source": [
    "df_raw.drop(columns='C/A',axis=1,inplace=True)\n",
    "df_raw.drop(columns='UNIT',axis=1,inplace=True)\n",
    "df_raw.drop(columns='SCP',axis=1,inplace=True)\n",
    "df_raw.drop(columns='DATETIME',axis=1,inplace=True)"
   ]
  },
  {
   "cell_type": "code",
   "execution_count": 70,
   "metadata": {
    "scrolled": false
   },
   "outputs": [],
   "source": [
    "df_raw['DAY'] = df_raw['DATE'].dt.day_name() # getting day name of date"
   ]
  },
  {
   "cell_type": "code",
   "execution_count": 71,
   "metadata": {},
   "outputs": [
    {
     "data": {
      "text/html": [
       "<div>\n",
       "<style scoped>\n",
       "    .dataframe tbody tr th:only-of-type {\n",
       "        vertical-align: middle;\n",
       "    }\n",
       "\n",
       "    .dataframe tbody tr th {\n",
       "        vertical-align: top;\n",
       "    }\n",
       "\n",
       "    .dataframe thead th {\n",
       "        text-align: right;\n",
       "    }\n",
       "</style>\n",
       "<table border=\"1\" class=\"dataframe\">\n",
       "  <thead>\n",
       "    <tr style=\"text-align: right;\">\n",
       "      <th></th>\n",
       "      <th>STATION</th>\n",
       "      <th>LINENAME</th>\n",
       "      <th>DIVISION</th>\n",
       "      <th>DATE</th>\n",
       "      <th>TIME</th>\n",
       "      <th>DESC</th>\n",
       "      <th>ENTRIES</th>\n",
       "      <th>EXITS</th>\n",
       "      <th>TURNSTILE</th>\n",
       "      <th>DAY</th>\n",
       "    </tr>\n",
       "  </thead>\n",
       "  <tbody>\n",
       "    <tr>\n",
       "      <th>0</th>\n",
       "      <td>59 ST</td>\n",
       "      <td>NQR456W</td>\n",
       "      <td>BMT</td>\n",
       "      <td>2022-04-16</td>\n",
       "      <td>00:00:00</td>\n",
       "      <td>REGULAR</td>\n",
       "      <td>7702257</td>\n",
       "      <td>2693154</td>\n",
       "      <td>A002 R051 02-00-00</td>\n",
       "      <td>Saturday</td>\n",
       "    </tr>\n",
       "    <tr>\n",
       "      <th>1</th>\n",
       "      <td>59 ST</td>\n",
       "      <td>NQR456W</td>\n",
       "      <td>BMT</td>\n",
       "      <td>2022-04-16</td>\n",
       "      <td>04:00:00</td>\n",
       "      <td>REGULAR</td>\n",
       "      <td>7702260</td>\n",
       "      <td>2693158</td>\n",
       "      <td>A002 R051 02-00-00</td>\n",
       "      <td>Saturday</td>\n",
       "    </tr>\n",
       "    <tr>\n",
       "      <th>2</th>\n",
       "      <td>59 ST</td>\n",
       "      <td>NQR456W</td>\n",
       "      <td>BMT</td>\n",
       "      <td>2022-04-16</td>\n",
       "      <td>08:00:00</td>\n",
       "      <td>REGULAR</td>\n",
       "      <td>7702266</td>\n",
       "      <td>2693179</td>\n",
       "      <td>A002 R051 02-00-00</td>\n",
       "      <td>Saturday</td>\n",
       "    </tr>\n",
       "    <tr>\n",
       "      <th>3</th>\n",
       "      <td>59 ST</td>\n",
       "      <td>NQR456W</td>\n",
       "      <td>BMT</td>\n",
       "      <td>2022-04-16</td>\n",
       "      <td>12:00:00</td>\n",
       "      <td>REGULAR</td>\n",
       "      <td>7702282</td>\n",
       "      <td>2693270</td>\n",
       "      <td>A002 R051 02-00-00</td>\n",
       "      <td>Saturday</td>\n",
       "    </tr>\n",
       "    <tr>\n",
       "      <th>4</th>\n",
       "      <td>59 ST</td>\n",
       "      <td>NQR456W</td>\n",
       "      <td>BMT</td>\n",
       "      <td>2022-04-16</td>\n",
       "      <td>16:00:00</td>\n",
       "      <td>REGULAR</td>\n",
       "      <td>7702325</td>\n",
       "      <td>2693324</td>\n",
       "      <td>A002 R051 02-00-00</td>\n",
       "      <td>Saturday</td>\n",
       "    </tr>\n",
       "    <tr>\n",
       "      <th>...</th>\n",
       "      <td>...</td>\n",
       "      <td>...</td>\n",
       "      <td>...</td>\n",
       "      <td>...</td>\n",
       "      <td>...</td>\n",
       "      <td>...</td>\n",
       "      <td>...</td>\n",
       "      <td>...</td>\n",
       "      <td>...</td>\n",
       "      <td>...</td>\n",
       "    </tr>\n",
       "    <tr>\n",
       "      <th>211242</th>\n",
       "      <td>RIT-ROOSEVELT</td>\n",
       "      <td>R</td>\n",
       "      <td>RIT</td>\n",
       "      <td>2022-06-10</td>\n",
       "      <td>05:00:00</td>\n",
       "      <td>REGULAR</td>\n",
       "      <td>0</td>\n",
       "      <td>488</td>\n",
       "      <td>TRAM2 R469 00-05-01</td>\n",
       "      <td>Friday</td>\n",
       "    </tr>\n",
       "    <tr>\n",
       "      <th>211243</th>\n",
       "      <td>RIT-ROOSEVELT</td>\n",
       "      <td>R</td>\n",
       "      <td>RIT</td>\n",
       "      <td>2022-06-10</td>\n",
       "      <td>09:00:00</td>\n",
       "      <td>REGULAR</td>\n",
       "      <td>0</td>\n",
       "      <td>488</td>\n",
       "      <td>TRAM2 R469 00-05-01</td>\n",
       "      <td>Friday</td>\n",
       "    </tr>\n",
       "    <tr>\n",
       "      <th>211244</th>\n",
       "      <td>RIT-ROOSEVELT</td>\n",
       "      <td>R</td>\n",
       "      <td>RIT</td>\n",
       "      <td>2022-06-10</td>\n",
       "      <td>13:00:00</td>\n",
       "      <td>REGULAR</td>\n",
       "      <td>0</td>\n",
       "      <td>489</td>\n",
       "      <td>TRAM2 R469 00-05-01</td>\n",
       "      <td>Friday</td>\n",
       "    </tr>\n",
       "    <tr>\n",
       "      <th>211245</th>\n",
       "      <td>RIT-ROOSEVELT</td>\n",
       "      <td>R</td>\n",
       "      <td>RIT</td>\n",
       "      <td>2022-06-10</td>\n",
       "      <td>17:00:00</td>\n",
       "      <td>REGULAR</td>\n",
       "      <td>0</td>\n",
       "      <td>490</td>\n",
       "      <td>TRAM2 R469 00-05-01</td>\n",
       "      <td>Friday</td>\n",
       "    </tr>\n",
       "    <tr>\n",
       "      <th>211246</th>\n",
       "      <td>RIT-ROOSEVELT</td>\n",
       "      <td>R</td>\n",
       "      <td>RIT</td>\n",
       "      <td>2022-06-10</td>\n",
       "      <td>21:00:00</td>\n",
       "      <td>REGULAR</td>\n",
       "      <td>0</td>\n",
       "      <td>492</td>\n",
       "      <td>TRAM2 R469 00-05-01</td>\n",
       "      <td>Friday</td>\n",
       "    </tr>\n",
       "  </tbody>\n",
       "</table>\n",
       "<p>1689579 rows × 10 columns</p>\n",
       "</div>"
      ],
      "text/plain": [
       "              STATION LINENAME DIVISION       DATE      TIME     DESC  \\\n",
       "0               59 ST  NQR456W      BMT 2022-04-16  00:00:00  REGULAR   \n",
       "1               59 ST  NQR456W      BMT 2022-04-16  04:00:00  REGULAR   \n",
       "2               59 ST  NQR456W      BMT 2022-04-16  08:00:00  REGULAR   \n",
       "3               59 ST  NQR456W      BMT 2022-04-16  12:00:00  REGULAR   \n",
       "4               59 ST  NQR456W      BMT 2022-04-16  16:00:00  REGULAR   \n",
       "...               ...      ...      ...        ...       ...      ...   \n",
       "211242  RIT-ROOSEVELT        R      RIT 2022-06-10  05:00:00  REGULAR   \n",
       "211243  RIT-ROOSEVELT        R      RIT 2022-06-10  09:00:00  REGULAR   \n",
       "211244  RIT-ROOSEVELT        R      RIT 2022-06-10  13:00:00  REGULAR   \n",
       "211245  RIT-ROOSEVELT        R      RIT 2022-06-10  17:00:00  REGULAR   \n",
       "211246  RIT-ROOSEVELT        R      RIT 2022-06-10  21:00:00  REGULAR   \n",
       "\n",
       "        ENTRIES    EXITS            TURNSTILE       DAY  \n",
       "0       7702257  2693154   A002 R051 02-00-00  Saturday  \n",
       "1       7702260  2693158   A002 R051 02-00-00  Saturday  \n",
       "2       7702266  2693179   A002 R051 02-00-00  Saturday  \n",
       "3       7702282  2693270   A002 R051 02-00-00  Saturday  \n",
       "4       7702325  2693324   A002 R051 02-00-00  Saturday  \n",
       "...         ...      ...                  ...       ...  \n",
       "211242        0      488  TRAM2 R469 00-05-01    Friday  \n",
       "211243        0      488  TRAM2 R469 00-05-01    Friday  \n",
       "211244        0      489  TRAM2 R469 00-05-01    Friday  \n",
       "211245        0      490  TRAM2 R469 00-05-01    Friday  \n",
       "211246        0      492  TRAM2 R469 00-05-01    Friday  \n",
       "\n",
       "[1689579 rows x 10 columns]"
      ]
     },
     "execution_count": 71,
     "metadata": {},
     "output_type": "execute_result"
    }
   ],
   "source": [
    "df_raw"
   ]
  },
  {
   "cell_type": "code",
   "execution_count": 72,
   "metadata": {
    "colab": {
     "base_uri": "https://localhost:8080/"
    },
    "id": "2aNU2wtHzkuS",
    "outputId": "7e3c84e1-34e0-4b39-c79b-b19e7a5a2f5c",
    "scrolled": true
   },
   "outputs": [
    {
     "data": {
      "text/plain": [
       "REGULAR       1682691\n",
       "RECOVR AUD       6888\n",
       "Name: DESC, dtype: int64"
      ]
     },
     "execution_count": 72,
     "metadata": {},
     "output_type": "execute_result"
    }
   ],
   "source": [
    "df_raw.DESC.value_counts()"
   ]
  },
  {
   "cell_type": "code",
   "execution_count": 73,
   "metadata": {},
   "outputs": [],
   "source": [
    "df_raw=df_raw[df_raw['DESC']=='REGULAR'] # \"RECOVR AUD\" attributes has dropped. Rows' DESC is only REGULAR type."
   ]
  },
  {
   "cell_type": "code",
   "execution_count": 74,
   "metadata": {},
   "outputs": [
    {
     "name": "stderr",
     "output_type": "stream",
     "text": [
      "C:\\Users\\mehmet\\AppData\\Local\\Temp\\ipykernel_11252\\3828759546.py:1: SettingWithCopyWarning:\n",
      "\n",
      "\n",
      "A value is trying to be set on a copy of a slice from a DataFrame\n",
      "\n",
      "See the caveats in the documentation: https://pandas.pydata.org/pandas-docs/stable/user_guide/indexing.html#returning-a-view-versus-a-copy\n",
      "\n"
     ]
    }
   ],
   "source": [
    "df_raw.drop(columns='DESC',axis=1,inplace=True)"
   ]
  },
  {
   "cell_type": "code",
   "execution_count": 75,
   "metadata": {},
   "outputs": [
    {
     "data": {
      "text/html": [
       "<div>\n",
       "<style scoped>\n",
       "    .dataframe tbody tr th:only-of-type {\n",
       "        vertical-align: middle;\n",
       "    }\n",
       "\n",
       "    .dataframe tbody tr th {\n",
       "        vertical-align: top;\n",
       "    }\n",
       "\n",
       "    .dataframe thead th {\n",
       "        text-align: right;\n",
       "    }\n",
       "</style>\n",
       "<table border=\"1\" class=\"dataframe\">\n",
       "  <thead>\n",
       "    <tr style=\"text-align: right;\">\n",
       "      <th></th>\n",
       "      <th>STATION</th>\n",
       "      <th>LINENAME</th>\n",
       "      <th>DIVISION</th>\n",
       "      <th>DATE</th>\n",
       "      <th>TIME</th>\n",
       "      <th>ENTRIES</th>\n",
       "      <th>EXITS</th>\n",
       "      <th>TURNSTILE</th>\n",
       "      <th>DAY</th>\n",
       "    </tr>\n",
       "  </thead>\n",
       "  <tbody>\n",
       "    <tr>\n",
       "      <th>0</th>\n",
       "      <td>59 ST</td>\n",
       "      <td>NQR456W</td>\n",
       "      <td>BMT</td>\n",
       "      <td>2022-04-16</td>\n",
       "      <td>00:00:00</td>\n",
       "      <td>7702257</td>\n",
       "      <td>2693154</td>\n",
       "      <td>A002 R051 02-00-00</td>\n",
       "      <td>Saturday</td>\n",
       "    </tr>\n",
       "    <tr>\n",
       "      <th>1</th>\n",
       "      <td>59 ST</td>\n",
       "      <td>NQR456W</td>\n",
       "      <td>BMT</td>\n",
       "      <td>2022-04-16</td>\n",
       "      <td>04:00:00</td>\n",
       "      <td>7702260</td>\n",
       "      <td>2693158</td>\n",
       "      <td>A002 R051 02-00-00</td>\n",
       "      <td>Saturday</td>\n",
       "    </tr>\n",
       "    <tr>\n",
       "      <th>2</th>\n",
       "      <td>59 ST</td>\n",
       "      <td>NQR456W</td>\n",
       "      <td>BMT</td>\n",
       "      <td>2022-04-16</td>\n",
       "      <td>08:00:00</td>\n",
       "      <td>7702266</td>\n",
       "      <td>2693179</td>\n",
       "      <td>A002 R051 02-00-00</td>\n",
       "      <td>Saturday</td>\n",
       "    </tr>\n",
       "    <tr>\n",
       "      <th>3</th>\n",
       "      <td>59 ST</td>\n",
       "      <td>NQR456W</td>\n",
       "      <td>BMT</td>\n",
       "      <td>2022-04-16</td>\n",
       "      <td>12:00:00</td>\n",
       "      <td>7702282</td>\n",
       "      <td>2693270</td>\n",
       "      <td>A002 R051 02-00-00</td>\n",
       "      <td>Saturday</td>\n",
       "    </tr>\n",
       "    <tr>\n",
       "      <th>4</th>\n",
       "      <td>59 ST</td>\n",
       "      <td>NQR456W</td>\n",
       "      <td>BMT</td>\n",
       "      <td>2022-04-16</td>\n",
       "      <td>16:00:00</td>\n",
       "      <td>7702325</td>\n",
       "      <td>2693324</td>\n",
       "      <td>A002 R051 02-00-00</td>\n",
       "      <td>Saturday</td>\n",
       "    </tr>\n",
       "  </tbody>\n",
       "</table>\n",
       "</div>"
      ],
      "text/plain": [
       "  STATION LINENAME DIVISION       DATE      TIME  ENTRIES    EXITS  \\\n",
       "0   59 ST  NQR456W      BMT 2022-04-16  00:00:00  7702257  2693154   \n",
       "1   59 ST  NQR456W      BMT 2022-04-16  04:00:00  7702260  2693158   \n",
       "2   59 ST  NQR456W      BMT 2022-04-16  08:00:00  7702266  2693179   \n",
       "3   59 ST  NQR456W      BMT 2022-04-16  12:00:00  7702282  2693270   \n",
       "4   59 ST  NQR456W      BMT 2022-04-16  16:00:00  7702325  2693324   \n",
       "\n",
       "            TURNSTILE       DAY  \n",
       "0  A002 R051 02-00-00  Saturday  \n",
       "1  A002 R051 02-00-00  Saturday  \n",
       "2  A002 R051 02-00-00  Saturday  \n",
       "3  A002 R051 02-00-00  Saturday  \n",
       "4  A002 R051 02-00-00  Saturday  "
      ]
     },
     "execution_count": 75,
     "metadata": {},
     "output_type": "execute_result"
    }
   ],
   "source": [
    "df_raw.head()"
   ]
  },
  {
   "cell_type": "code",
   "execution_count": 76,
   "metadata": {
    "scrolled": true
   },
   "outputs": [
    {
     "name": "stderr",
     "output_type": "stream",
     "text": [
      "C:\\Users\\mehmet\\AppData\\Local\\Temp\\ipykernel_11252\\2615660028.py:1: SettingWithCopyWarning:\n",
      "\n",
      "\n",
      "A value is trying to be set on a copy of a slice from a DataFrame.\n",
      "Try using .loc[row_indexer,col_indexer] = value instead\n",
      "\n",
      "See the caveats in the documentation: https://pandas.pydata.org/pandas-docs/stable/user_guide/indexing.html#returning-a-view-versus-a-copy\n",
      "\n",
      "C:\\Users\\mehmet\\AppData\\Local\\Temp\\ipykernel_11252\\2615660028.py:2: SettingWithCopyWarning:\n",
      "\n",
      "\n",
      "A value is trying to be set on a copy of a slice from a DataFrame.\n",
      "Try using .loc[row_indexer,col_indexer] = value instead\n",
      "\n",
      "See the caveats in the documentation: https://pandas.pydata.org/pandas-docs/stable/user_guide/indexing.html#returning-a-view-versus-a-copy\n",
      "\n",
      "C:\\Users\\mehmet\\AppData\\Local\\Temp\\ipykernel_11252\\2615660028.py:3: SettingWithCopyWarning:\n",
      "\n",
      "\n",
      "A value is trying to be set on a copy of a slice from a DataFrame\n",
      "\n",
      "See the caveats in the documentation: https://pandas.pydata.org/pandas-docs/stable/user_guide/indexing.html#returning-a-view-versus-a-copy\n",
      "\n",
      "C:\\Users\\mehmet\\AppData\\Local\\Temp\\ipykernel_11252\\2615660028.py:4: SettingWithCopyWarning:\n",
      "\n",
      "\n",
      "A value is trying to be set on a copy of a slice from a DataFrame\n",
      "\n",
      "See the caveats in the documentation: https://pandas.pydata.org/pandas-docs/stable/user_guide/indexing.html#returning-a-view-versus-a-copy\n",
      "\n"
     ]
    }
   ],
   "source": [
    "df_raw['DIFF.ENTRIES']=df_raw['ENTRIES'].diff()\n",
    "df_raw['DIFF.EXITS']=df_raw['EXITS'].diff()\n",
    "df_raw.drop(columns='ENTRIES',axis=1,inplace=True)\n",
    "df_raw.drop(columns='EXITS',axis=1,inplace=True)"
   ]
  },
  {
   "cell_type": "code",
   "execution_count": 77,
   "metadata": {},
   "outputs": [
    {
     "data": {
      "text/html": [
       "<div>\n",
       "<style scoped>\n",
       "    .dataframe tbody tr th:only-of-type {\n",
       "        vertical-align: middle;\n",
       "    }\n",
       "\n",
       "    .dataframe tbody tr th {\n",
       "        vertical-align: top;\n",
       "    }\n",
       "\n",
       "    .dataframe thead th {\n",
       "        text-align: right;\n",
       "    }\n",
       "</style>\n",
       "<table border=\"1\" class=\"dataframe\">\n",
       "  <thead>\n",
       "    <tr style=\"text-align: right;\">\n",
       "      <th></th>\n",
       "      <th>STATION</th>\n",
       "      <th>LINENAME</th>\n",
       "      <th>DIVISION</th>\n",
       "      <th>DATE</th>\n",
       "      <th>TIME</th>\n",
       "      <th>TURNSTILE</th>\n",
       "      <th>DAY</th>\n",
       "      <th>DIFF.ENTRIES</th>\n",
       "      <th>DIFF.EXITS</th>\n",
       "    </tr>\n",
       "  </thead>\n",
       "  <tbody>\n",
       "    <tr>\n",
       "      <th>0</th>\n",
       "      <td>59 ST</td>\n",
       "      <td>NQR456W</td>\n",
       "      <td>BMT</td>\n",
       "      <td>2022-04-16</td>\n",
       "      <td>00:00:00</td>\n",
       "      <td>A002 R051 02-00-00</td>\n",
       "      <td>Saturday</td>\n",
       "      <td>NaN</td>\n",
       "      <td>NaN</td>\n",
       "    </tr>\n",
       "    <tr>\n",
       "      <th>1</th>\n",
       "      <td>59 ST</td>\n",
       "      <td>NQR456W</td>\n",
       "      <td>BMT</td>\n",
       "      <td>2022-04-16</td>\n",
       "      <td>04:00:00</td>\n",
       "      <td>A002 R051 02-00-00</td>\n",
       "      <td>Saturday</td>\n",
       "      <td>3.0</td>\n",
       "      <td>4.0</td>\n",
       "    </tr>\n",
       "    <tr>\n",
       "      <th>2</th>\n",
       "      <td>59 ST</td>\n",
       "      <td>NQR456W</td>\n",
       "      <td>BMT</td>\n",
       "      <td>2022-04-16</td>\n",
       "      <td>08:00:00</td>\n",
       "      <td>A002 R051 02-00-00</td>\n",
       "      <td>Saturday</td>\n",
       "      <td>6.0</td>\n",
       "      <td>21.0</td>\n",
       "    </tr>\n",
       "    <tr>\n",
       "      <th>3</th>\n",
       "      <td>59 ST</td>\n",
       "      <td>NQR456W</td>\n",
       "      <td>BMT</td>\n",
       "      <td>2022-04-16</td>\n",
       "      <td>12:00:00</td>\n",
       "      <td>A002 R051 02-00-00</td>\n",
       "      <td>Saturday</td>\n",
       "      <td>16.0</td>\n",
       "      <td>91.0</td>\n",
       "    </tr>\n",
       "    <tr>\n",
       "      <th>4</th>\n",
       "      <td>59 ST</td>\n",
       "      <td>NQR456W</td>\n",
       "      <td>BMT</td>\n",
       "      <td>2022-04-16</td>\n",
       "      <td>16:00:00</td>\n",
       "      <td>A002 R051 02-00-00</td>\n",
       "      <td>Saturday</td>\n",
       "      <td>43.0</td>\n",
       "      <td>54.0</td>\n",
       "    </tr>\n",
       "    <tr>\n",
       "      <th>...</th>\n",
       "      <td>...</td>\n",
       "      <td>...</td>\n",
       "      <td>...</td>\n",
       "      <td>...</td>\n",
       "      <td>...</td>\n",
       "      <td>...</td>\n",
       "      <td>...</td>\n",
       "      <td>...</td>\n",
       "      <td>...</td>\n",
       "    </tr>\n",
       "    <tr>\n",
       "      <th>211242</th>\n",
       "      <td>RIT-ROOSEVELT</td>\n",
       "      <td>R</td>\n",
       "      <td>RIT</td>\n",
       "      <td>2022-06-10</td>\n",
       "      <td>05:00:00</td>\n",
       "      <td>TRAM2 R469 00-05-01</td>\n",
       "      <td>Friday</td>\n",
       "      <td>0.0</td>\n",
       "      <td>0.0</td>\n",
       "    </tr>\n",
       "    <tr>\n",
       "      <th>211243</th>\n",
       "      <td>RIT-ROOSEVELT</td>\n",
       "      <td>R</td>\n",
       "      <td>RIT</td>\n",
       "      <td>2022-06-10</td>\n",
       "      <td>09:00:00</td>\n",
       "      <td>TRAM2 R469 00-05-01</td>\n",
       "      <td>Friday</td>\n",
       "      <td>0.0</td>\n",
       "      <td>0.0</td>\n",
       "    </tr>\n",
       "    <tr>\n",
       "      <th>211244</th>\n",
       "      <td>RIT-ROOSEVELT</td>\n",
       "      <td>R</td>\n",
       "      <td>RIT</td>\n",
       "      <td>2022-06-10</td>\n",
       "      <td>13:00:00</td>\n",
       "      <td>TRAM2 R469 00-05-01</td>\n",
       "      <td>Friday</td>\n",
       "      <td>0.0</td>\n",
       "      <td>1.0</td>\n",
       "    </tr>\n",
       "    <tr>\n",
       "      <th>211245</th>\n",
       "      <td>RIT-ROOSEVELT</td>\n",
       "      <td>R</td>\n",
       "      <td>RIT</td>\n",
       "      <td>2022-06-10</td>\n",
       "      <td>17:00:00</td>\n",
       "      <td>TRAM2 R469 00-05-01</td>\n",
       "      <td>Friday</td>\n",
       "      <td>0.0</td>\n",
       "      <td>1.0</td>\n",
       "    </tr>\n",
       "    <tr>\n",
       "      <th>211246</th>\n",
       "      <td>RIT-ROOSEVELT</td>\n",
       "      <td>R</td>\n",
       "      <td>RIT</td>\n",
       "      <td>2022-06-10</td>\n",
       "      <td>21:00:00</td>\n",
       "      <td>TRAM2 R469 00-05-01</td>\n",
       "      <td>Friday</td>\n",
       "      <td>0.0</td>\n",
       "      <td>2.0</td>\n",
       "    </tr>\n",
       "  </tbody>\n",
       "</table>\n",
       "<p>1682691 rows × 9 columns</p>\n",
       "</div>"
      ],
      "text/plain": [
       "              STATION LINENAME DIVISION       DATE      TIME  \\\n",
       "0               59 ST  NQR456W      BMT 2022-04-16  00:00:00   \n",
       "1               59 ST  NQR456W      BMT 2022-04-16  04:00:00   \n",
       "2               59 ST  NQR456W      BMT 2022-04-16  08:00:00   \n",
       "3               59 ST  NQR456W      BMT 2022-04-16  12:00:00   \n",
       "4               59 ST  NQR456W      BMT 2022-04-16  16:00:00   \n",
       "...               ...      ...      ...        ...       ...   \n",
       "211242  RIT-ROOSEVELT        R      RIT 2022-06-10  05:00:00   \n",
       "211243  RIT-ROOSEVELT        R      RIT 2022-06-10  09:00:00   \n",
       "211244  RIT-ROOSEVELT        R      RIT 2022-06-10  13:00:00   \n",
       "211245  RIT-ROOSEVELT        R      RIT 2022-06-10  17:00:00   \n",
       "211246  RIT-ROOSEVELT        R      RIT 2022-06-10  21:00:00   \n",
       "\n",
       "                  TURNSTILE       DAY  DIFF.ENTRIES  DIFF.EXITS  \n",
       "0        A002 R051 02-00-00  Saturday           NaN         NaN  \n",
       "1        A002 R051 02-00-00  Saturday           3.0         4.0  \n",
       "2        A002 R051 02-00-00  Saturday           6.0        21.0  \n",
       "3        A002 R051 02-00-00  Saturday          16.0        91.0  \n",
       "4        A002 R051 02-00-00  Saturday          43.0        54.0  \n",
       "...                     ...       ...           ...         ...  \n",
       "211242  TRAM2 R469 00-05-01    Friday           0.0         0.0  \n",
       "211243  TRAM2 R469 00-05-01    Friday           0.0         0.0  \n",
       "211244  TRAM2 R469 00-05-01    Friday           0.0         1.0  \n",
       "211245  TRAM2 R469 00-05-01    Friday           0.0         1.0  \n",
       "211246  TRAM2 R469 00-05-01    Friday           0.0         2.0  \n",
       "\n",
       "[1682691 rows x 9 columns]"
      ]
     },
     "execution_count": 77,
     "metadata": {},
     "output_type": "execute_result"
    }
   ],
   "source": [
    "df_raw"
   ]
  },
  {
   "cell_type": "code",
   "execution_count": 78,
   "metadata": {
    "scrolled": true
   },
   "outputs": [
    {
     "name": "stderr",
     "output_type": "stream",
     "text": [
      "C:\\Users\\mehmet\\AppData\\Local\\Temp\\ipykernel_11252\\1090700148.py:1: SettingWithCopyWarning:\n",
      "\n",
      "\n",
      "A value is trying to be set on a copy of a slice from a DataFrame\n",
      "\n",
      "See the caveats in the documentation: https://pandas.pydata.org/pandas-docs/stable/user_guide/indexing.html#returning-a-view-versus-a-copy\n",
      "\n"
     ]
    }
   ],
   "source": [
    "df_raw.drop(index=0, inplace=True) # The row has \"NaN\" has been dropped."
   ]
  },
  {
   "cell_type": "code",
   "execution_count": 79,
   "metadata": {
    "scrolled": true
   },
   "outputs": [
    {
     "data": {
      "text/html": [
       "<div>\n",
       "<style scoped>\n",
       "    .dataframe tbody tr th:only-of-type {\n",
       "        vertical-align: middle;\n",
       "    }\n",
       "\n",
       "    .dataframe tbody tr th {\n",
       "        vertical-align: top;\n",
       "    }\n",
       "\n",
       "    .dataframe thead th {\n",
       "        text-align: right;\n",
       "    }\n",
       "</style>\n",
       "<table border=\"1\" class=\"dataframe\">\n",
       "  <thead>\n",
       "    <tr style=\"text-align: right;\">\n",
       "      <th></th>\n",
       "      <th>STATION</th>\n",
       "      <th>LINENAME</th>\n",
       "      <th>DIVISION</th>\n",
       "      <th>DATE</th>\n",
       "      <th>TIME</th>\n",
       "      <th>TURNSTILE</th>\n",
       "      <th>DAY</th>\n",
       "      <th>DIFF.ENTRIES</th>\n",
       "      <th>DIFF.EXITS</th>\n",
       "    </tr>\n",
       "  </thead>\n",
       "  <tbody>\n",
       "    <tr>\n",
       "      <th>1</th>\n",
       "      <td>59 ST</td>\n",
       "      <td>NQR456W</td>\n",
       "      <td>BMT</td>\n",
       "      <td>2022-04-16</td>\n",
       "      <td>04:00:00</td>\n",
       "      <td>A002 R051 02-00-00</td>\n",
       "      <td>Saturday</td>\n",
       "      <td>3.0</td>\n",
       "      <td>4.0</td>\n",
       "    </tr>\n",
       "    <tr>\n",
       "      <th>2</th>\n",
       "      <td>59 ST</td>\n",
       "      <td>NQR456W</td>\n",
       "      <td>BMT</td>\n",
       "      <td>2022-04-16</td>\n",
       "      <td>08:00:00</td>\n",
       "      <td>A002 R051 02-00-00</td>\n",
       "      <td>Saturday</td>\n",
       "      <td>6.0</td>\n",
       "      <td>21.0</td>\n",
       "    </tr>\n",
       "    <tr>\n",
       "      <th>3</th>\n",
       "      <td>59 ST</td>\n",
       "      <td>NQR456W</td>\n",
       "      <td>BMT</td>\n",
       "      <td>2022-04-16</td>\n",
       "      <td>12:00:00</td>\n",
       "      <td>A002 R051 02-00-00</td>\n",
       "      <td>Saturday</td>\n",
       "      <td>16.0</td>\n",
       "      <td>91.0</td>\n",
       "    </tr>\n",
       "    <tr>\n",
       "      <th>4</th>\n",
       "      <td>59 ST</td>\n",
       "      <td>NQR456W</td>\n",
       "      <td>BMT</td>\n",
       "      <td>2022-04-16</td>\n",
       "      <td>16:00:00</td>\n",
       "      <td>A002 R051 02-00-00</td>\n",
       "      <td>Saturday</td>\n",
       "      <td>43.0</td>\n",
       "      <td>54.0</td>\n",
       "    </tr>\n",
       "    <tr>\n",
       "      <th>5</th>\n",
       "      <td>59 ST</td>\n",
       "      <td>NQR456W</td>\n",
       "      <td>BMT</td>\n",
       "      <td>2022-04-16</td>\n",
       "      <td>20:00:00</td>\n",
       "      <td>A002 R051 02-00-00</td>\n",
       "      <td>Saturday</td>\n",
       "      <td>56.0</td>\n",
       "      <td>44.0</td>\n",
       "    </tr>\n",
       "  </tbody>\n",
       "</table>\n",
       "</div>"
      ],
      "text/plain": [
       "  STATION LINENAME DIVISION       DATE      TIME           TURNSTILE  \\\n",
       "1   59 ST  NQR456W      BMT 2022-04-16  04:00:00  A002 R051 02-00-00   \n",
       "2   59 ST  NQR456W      BMT 2022-04-16  08:00:00  A002 R051 02-00-00   \n",
       "3   59 ST  NQR456W      BMT 2022-04-16  12:00:00  A002 R051 02-00-00   \n",
       "4   59 ST  NQR456W      BMT 2022-04-16  16:00:00  A002 R051 02-00-00   \n",
       "5   59 ST  NQR456W      BMT 2022-04-16  20:00:00  A002 R051 02-00-00   \n",
       "\n",
       "        DAY  DIFF.ENTRIES  DIFF.EXITS  \n",
       "1  Saturday           3.0         4.0  \n",
       "2  Saturday           6.0        21.0  \n",
       "3  Saturday          16.0        91.0  \n",
       "4  Saturday          43.0        54.0  \n",
       "5  Saturday          56.0        44.0  "
      ]
     },
     "execution_count": 79,
     "metadata": {},
     "output_type": "execute_result"
    }
   ],
   "source": [
    "df_raw.head()"
   ]
  },
  {
   "cell_type": "markdown",
   "metadata": {},
   "source": [
    "##### There are three problems regarding the values in \"DIFF.ENTRIES\",\"DIFF.EXITS,\"TRAFFIC\" columns.\n",
    "    - positive too much values\n",
    "    - negative values \n",
    "    - some zero values  \n",
    "    \n",
    "If a passanger passes a turstile in 3 second, max. 4800 passangers can pass a turstile in 4-hours."
   ]
  },
  {
   "cell_type": "code",
   "execution_count": 80,
   "metadata": {
    "scrolled": false
   },
   "outputs": [
    {
     "data": {
      "text/html": [
       "<div>\n",
       "<style scoped>\n",
       "    .dataframe tbody tr th:only-of-type {\n",
       "        vertical-align: middle;\n",
       "    }\n",
       "\n",
       "    .dataframe tbody tr th {\n",
       "        vertical-align: top;\n",
       "    }\n",
       "\n",
       "    .dataframe thead th {\n",
       "        text-align: right;\n",
       "    }\n",
       "</style>\n",
       "<table border=\"1\" class=\"dataframe\">\n",
       "  <thead>\n",
       "    <tr style=\"text-align: right;\">\n",
       "      <th></th>\n",
       "      <th>STATION</th>\n",
       "      <th>LINENAME</th>\n",
       "      <th>DIVISION</th>\n",
       "      <th>DATE</th>\n",
       "      <th>TIME</th>\n",
       "      <th>TURNSTILE</th>\n",
       "      <th>DAY</th>\n",
       "      <th>DIFF.ENTRIES</th>\n",
       "      <th>DIFF.EXITS</th>\n",
       "    </tr>\n",
       "  </thead>\n",
       "  <tbody>\n",
       "    <tr>\n",
       "      <th>42</th>\n",
       "      <td>59 ST</td>\n",
       "      <td>NQR456W</td>\n",
       "      <td>BMT</td>\n",
       "      <td>2022-04-16</td>\n",
       "      <td>00:00:00</td>\n",
       "      <td>A002 R051 02-00-01</td>\n",
       "      <td>Saturday</td>\n",
       "      <td>-905546.0</td>\n",
       "      <td>-1126217.0</td>\n",
       "    </tr>\n",
       "    <tr>\n",
       "      <th>84</th>\n",
       "      <td>59 ST</td>\n",
       "      <td>NQR456W</td>\n",
       "      <td>BMT</td>\n",
       "      <td>2022-04-16</td>\n",
       "      <td>00:00:00</td>\n",
       "      <td>A002 R051 02-03-00</td>\n",
       "      <td>Saturday</td>\n",
       "      <td>-5341071.0</td>\n",
       "      <td>4123185.0</td>\n",
       "    </tr>\n",
       "    <tr>\n",
       "      <th>126</th>\n",
       "      <td>59 ST</td>\n",
       "      <td>NQR456W</td>\n",
       "      <td>BMT</td>\n",
       "      <td>2022-04-16</td>\n",
       "      <td>00:00:00</td>\n",
       "      <td>A002 R051 02-03-01</td>\n",
       "      <td>Saturday</td>\n",
       "      <td>251689.0</td>\n",
       "      <td>-2971901.0</td>\n",
       "    </tr>\n",
       "    <tr>\n",
       "      <th>168</th>\n",
       "      <td>59 ST</td>\n",
       "      <td>NQR456W</td>\n",
       "      <td>BMT</td>\n",
       "      <td>2022-04-16</td>\n",
       "      <td>00:00:00</td>\n",
       "      <td>A002 R051 02-03-02</td>\n",
       "      <td>Saturday</td>\n",
       "      <td>-1619341.0</td>\n",
       "      <td>-2623527.0</td>\n",
       "    </tr>\n",
       "    <tr>\n",
       "      <th>252</th>\n",
       "      <td>59 ST</td>\n",
       "      <td>NQR456W</td>\n",
       "      <td>BMT</td>\n",
       "      <td>2022-04-16</td>\n",
       "      <td>00:00:00</td>\n",
       "      <td>A002 R051 02-03-04</td>\n",
       "      <td>Saturday</td>\n",
       "      <td>1376166.0</td>\n",
       "      <td>-3192512.0</td>\n",
       "    </tr>\n",
       "    <tr>\n",
       "      <th>...</th>\n",
       "      <td>...</td>\n",
       "      <td>...</td>\n",
       "      <td>...</td>\n",
       "      <td>...</td>\n",
       "      <td>...</td>\n",
       "      <td>...</td>\n",
       "      <td>...</td>\n",
       "      <td>...</td>\n",
       "      <td>...</td>\n",
       "    </tr>\n",
       "    <tr>\n",
       "      <th>210738</th>\n",
       "      <td>RIT-MANHATTAN</td>\n",
       "      <td>R</td>\n",
       "      <td>RIT</td>\n",
       "      <td>2022-04-16</td>\n",
       "      <td>01:00:00</td>\n",
       "      <td>TRAM1 R468 00-00-02</td>\n",
       "      <td>Saturday</td>\n",
       "      <td>-347872.0</td>\n",
       "      <td>129623.0</td>\n",
       "    </tr>\n",
       "    <tr>\n",
       "      <th>210780</th>\n",
       "      <td>RIT-MANHATTAN</td>\n",
       "      <td>R</td>\n",
       "      <td>RIT</td>\n",
       "      <td>2022-04-16</td>\n",
       "      <td>01:00:00</td>\n",
       "      <td>TRAM1 R468 00-05-00</td>\n",
       "      <td>Saturday</td>\n",
       "      <td>-450472.0</td>\n",
       "      <td>-142811.0</td>\n",
       "    </tr>\n",
       "    <tr>\n",
       "      <th>210910</th>\n",
       "      <td>RIT-ROOSEVELT</td>\n",
       "      <td>R</td>\n",
       "      <td>RIT</td>\n",
       "      <td>2022-04-16</td>\n",
       "      <td>01:00:00</td>\n",
       "      <td>TRAM2 R469 00-03-00</td>\n",
       "      <td>Saturday</td>\n",
       "      <td>-3308134.0</td>\n",
       "      <td>-26774.0</td>\n",
       "    </tr>\n",
       "    <tr>\n",
       "      <th>210998</th>\n",
       "      <td>RIT-ROOSEVELT</td>\n",
       "      <td>R</td>\n",
       "      <td>RIT</td>\n",
       "      <td>2022-04-16</td>\n",
       "      <td>01:00:00</td>\n",
       "      <td>TRAM2 R469 00-05-00</td>\n",
       "      <td>Saturday</td>\n",
       "      <td>-2881567.0</td>\n",
       "      <td>-402452.0</td>\n",
       "    </tr>\n",
       "    <tr>\n",
       "      <th>211042</th>\n",
       "      <td>RIT-ROOSEVELT</td>\n",
       "      <td>R</td>\n",
       "      <td>RIT</td>\n",
       "      <td>2022-04-16</td>\n",
       "      <td>01:00:00</td>\n",
       "      <td>TRAM2 R469 00-05-01</td>\n",
       "      <td>Saturday</td>\n",
       "      <td>-334217.0</td>\n",
       "      <td>117.0</td>\n",
       "    </tr>\n",
       "  </tbody>\n",
       "</table>\n",
       "<p>23635 rows × 9 columns</p>\n",
       "</div>"
      ],
      "text/plain": [
       "              STATION LINENAME DIVISION       DATE      TIME  \\\n",
       "42              59 ST  NQR456W      BMT 2022-04-16  00:00:00   \n",
       "84              59 ST  NQR456W      BMT 2022-04-16  00:00:00   \n",
       "126             59 ST  NQR456W      BMT 2022-04-16  00:00:00   \n",
       "168             59 ST  NQR456W      BMT 2022-04-16  00:00:00   \n",
       "252             59 ST  NQR456W      BMT 2022-04-16  00:00:00   \n",
       "...               ...      ...      ...        ...       ...   \n",
       "210738  RIT-MANHATTAN        R      RIT 2022-04-16  01:00:00   \n",
       "210780  RIT-MANHATTAN        R      RIT 2022-04-16  01:00:00   \n",
       "210910  RIT-ROOSEVELT        R      RIT 2022-04-16  01:00:00   \n",
       "210998  RIT-ROOSEVELT        R      RIT 2022-04-16  01:00:00   \n",
       "211042  RIT-ROOSEVELT        R      RIT 2022-04-16  01:00:00   \n",
       "\n",
       "                  TURNSTILE       DAY  DIFF.ENTRIES  DIFF.EXITS  \n",
       "42       A002 R051 02-00-01  Saturday     -905546.0  -1126217.0  \n",
       "84       A002 R051 02-03-00  Saturday    -5341071.0   4123185.0  \n",
       "126      A002 R051 02-03-01  Saturday      251689.0  -2971901.0  \n",
       "168      A002 R051 02-03-02  Saturday    -1619341.0  -2623527.0  \n",
       "252      A002 R051 02-03-04  Saturday     1376166.0  -3192512.0  \n",
       "...                     ...       ...           ...         ...  \n",
       "210738  TRAM1 R468 00-00-02  Saturday     -347872.0    129623.0  \n",
       "210780  TRAM1 R468 00-05-00  Saturday     -450472.0   -142811.0  \n",
       "210910  TRAM2 R469 00-03-00  Saturday    -3308134.0    -26774.0  \n",
       "210998  TRAM2 R469 00-05-00  Saturday    -2881567.0   -402452.0  \n",
       "211042  TRAM2 R469 00-05-01  Saturday     -334217.0       117.0  \n",
       "\n",
       "[23635 rows x 9 columns]"
      ]
     },
     "execution_count": 80,
     "metadata": {},
     "output_type": "execute_result"
    }
   ],
   "source": [
    "df_raw[ (df_raw['DIFF.ENTRIES'] < 0) | (df_raw['DIFF.EXITS'] < 0)] # negative values"
   ]
  },
  {
   "cell_type": "code",
   "execution_count": 81,
   "metadata": {
    "scrolled": true
   },
   "outputs": [
    {
     "data": {
      "text/html": [
       "<div>\n",
       "<style scoped>\n",
       "    .dataframe tbody tr th:only-of-type {\n",
       "        vertical-align: middle;\n",
       "    }\n",
       "\n",
       "    .dataframe tbody tr th {\n",
       "        vertical-align: top;\n",
       "    }\n",
       "\n",
       "    .dataframe thead th {\n",
       "        text-align: right;\n",
       "    }\n",
       "</style>\n",
       "<table border=\"1\" class=\"dataframe\">\n",
       "  <thead>\n",
       "    <tr style=\"text-align: right;\">\n",
       "      <th></th>\n",
       "      <th>STATION</th>\n",
       "      <th>LINENAME</th>\n",
       "      <th>DIVISION</th>\n",
       "      <th>DATE</th>\n",
       "      <th>TIME</th>\n",
       "      <th>TURNSTILE</th>\n",
       "      <th>DAY</th>\n",
       "      <th>DIFF.ENTRIES</th>\n",
       "      <th>DIFF.EXITS</th>\n",
       "    </tr>\n",
       "  </thead>\n",
       "  <tbody>\n",
       "    <tr>\n",
       "      <th>84</th>\n",
       "      <td>59 ST</td>\n",
       "      <td>NQR456W</td>\n",
       "      <td>BMT</td>\n",
       "      <td>2022-04-16</td>\n",
       "      <td>00:00:00</td>\n",
       "      <td>A002 R051 02-03-00</td>\n",
       "      <td>Saturday</td>\n",
       "      <td>-5341071.0</td>\n",
       "      <td>4123185.0</td>\n",
       "    </tr>\n",
       "    <tr>\n",
       "      <th>126</th>\n",
       "      <td>59 ST</td>\n",
       "      <td>NQR456W</td>\n",
       "      <td>BMT</td>\n",
       "      <td>2022-04-16</td>\n",
       "      <td>00:00:00</td>\n",
       "      <td>A002 R051 02-03-01</td>\n",
       "      <td>Saturday</td>\n",
       "      <td>251689.0</td>\n",
       "      <td>-2971901.0</td>\n",
       "    </tr>\n",
       "    <tr>\n",
       "      <th>210</th>\n",
       "      <td>59 ST</td>\n",
       "      <td>NQR456W</td>\n",
       "      <td>BMT</td>\n",
       "      <td>2022-04-16</td>\n",
       "      <td>00:00:00</td>\n",
       "      <td>A002 R051 02-03-03</td>\n",
       "      <td>Saturday</td>\n",
       "      <td>6088392.0</td>\n",
       "      <td>6863120.0</td>\n",
       "    </tr>\n",
       "    <tr>\n",
       "      <th>252</th>\n",
       "      <td>59 ST</td>\n",
       "      <td>NQR456W</td>\n",
       "      <td>BMT</td>\n",
       "      <td>2022-04-16</td>\n",
       "      <td>00:00:00</td>\n",
       "      <td>A002 R051 02-03-04</td>\n",
       "      <td>Saturday</td>\n",
       "      <td>1376166.0</td>\n",
       "      <td>-3192512.0</td>\n",
       "    </tr>\n",
       "    <tr>\n",
       "      <th>294</th>\n",
       "      <td>59 ST</td>\n",
       "      <td>NQR456W</td>\n",
       "      <td>BMT</td>\n",
       "      <td>2022-04-16</td>\n",
       "      <td>00:00:00</td>\n",
       "      <td>A002 R051 02-03-05</td>\n",
       "      <td>Saturday</td>\n",
       "      <td>4687242.0</td>\n",
       "      <td>-2519705.0</td>\n",
       "    </tr>\n",
       "    <tr>\n",
       "      <th>...</th>\n",
       "      <td>...</td>\n",
       "      <td>...</td>\n",
       "      <td>...</td>\n",
       "      <td>...</td>\n",
       "      <td>...</td>\n",
       "      <td>...</td>\n",
       "      <td>...</td>\n",
       "      <td>...</td>\n",
       "      <td>...</td>\n",
       "    </tr>\n",
       "    <tr>\n",
       "      <th>210654</th>\n",
       "      <td>RIT-MANHATTAN</td>\n",
       "      <td>R</td>\n",
       "      <td>RIT</td>\n",
       "      <td>2022-04-16</td>\n",
       "      <td>01:00:00</td>\n",
       "      <td>TRAM1 R468 00-00-00</td>\n",
       "      <td>Saturday</td>\n",
       "      <td>1345260.0</td>\n",
       "      <td>30186.0</td>\n",
       "    </tr>\n",
       "    <tr>\n",
       "      <th>210738</th>\n",
       "      <td>RIT-MANHATTAN</td>\n",
       "      <td>R</td>\n",
       "      <td>RIT</td>\n",
       "      <td>2022-04-16</td>\n",
       "      <td>01:00:00</td>\n",
       "      <td>TRAM1 R468 00-00-02</td>\n",
       "      <td>Saturday</td>\n",
       "      <td>-347872.0</td>\n",
       "      <td>129623.0</td>\n",
       "    </tr>\n",
       "    <tr>\n",
       "      <th>210822</th>\n",
       "      <td>RIT-ROOSEVELT</td>\n",
       "      <td>R</td>\n",
       "      <td>RIT</td>\n",
       "      <td>2022-04-16</td>\n",
       "      <td>01:00:00</td>\n",
       "      <td>TRAM2 R469 00-00-00</td>\n",
       "      <td>Saturday</td>\n",
       "      <td>1115858.0</td>\n",
       "      <td>28716.0</td>\n",
       "    </tr>\n",
       "    <tr>\n",
       "      <th>210866</th>\n",
       "      <td>RIT-ROOSEVELT</td>\n",
       "      <td>R</td>\n",
       "      <td>RIT</td>\n",
       "      <td>2022-04-16</td>\n",
       "      <td>01:00:00</td>\n",
       "      <td>TRAM2 R469 00-00-01</td>\n",
       "      <td>Saturday</td>\n",
       "      <td>2836495.0</td>\n",
       "      <td>27695.0</td>\n",
       "    </tr>\n",
       "    <tr>\n",
       "      <th>210954</th>\n",
       "      <td>RIT-ROOSEVELT</td>\n",
       "      <td>R</td>\n",
       "      <td>RIT</td>\n",
       "      <td>2022-04-16</td>\n",
       "      <td>01:00:00</td>\n",
       "      <td>TRAM2 R469 00-03-01</td>\n",
       "      <td>Saturday</td>\n",
       "      <td>2375701.0</td>\n",
       "      <td>367612.0</td>\n",
       "    </tr>\n",
       "  </tbody>\n",
       "</table>\n",
       "<p>2925 rows × 9 columns</p>\n",
       "</div>"
      ],
      "text/plain": [
       "              STATION LINENAME DIVISION       DATE      TIME  \\\n",
       "84              59 ST  NQR456W      BMT 2022-04-16  00:00:00   \n",
       "126             59 ST  NQR456W      BMT 2022-04-16  00:00:00   \n",
       "210             59 ST  NQR456W      BMT 2022-04-16  00:00:00   \n",
       "252             59 ST  NQR456W      BMT 2022-04-16  00:00:00   \n",
       "294             59 ST  NQR456W      BMT 2022-04-16  00:00:00   \n",
       "...               ...      ...      ...        ...       ...   \n",
       "210654  RIT-MANHATTAN        R      RIT 2022-04-16  01:00:00   \n",
       "210738  RIT-MANHATTAN        R      RIT 2022-04-16  01:00:00   \n",
       "210822  RIT-ROOSEVELT        R      RIT 2022-04-16  01:00:00   \n",
       "210866  RIT-ROOSEVELT        R      RIT 2022-04-16  01:00:00   \n",
       "210954  RIT-ROOSEVELT        R      RIT 2022-04-16  01:00:00   \n",
       "\n",
       "                  TURNSTILE       DAY  DIFF.ENTRIES  DIFF.EXITS  \n",
       "84       A002 R051 02-03-00  Saturday    -5341071.0   4123185.0  \n",
       "126      A002 R051 02-03-01  Saturday      251689.0  -2971901.0  \n",
       "210      A002 R051 02-03-03  Saturday     6088392.0   6863120.0  \n",
       "252      A002 R051 02-03-04  Saturday     1376166.0  -3192512.0  \n",
       "294      A002 R051 02-03-05  Saturday     4687242.0  -2519705.0  \n",
       "...                     ...       ...           ...         ...  \n",
       "210654  TRAM1 R468 00-00-00  Saturday     1345260.0     30186.0  \n",
       "210738  TRAM1 R468 00-00-02  Saturday     -347872.0    129623.0  \n",
       "210822  TRAM2 R469 00-00-00  Saturday     1115858.0     28716.0  \n",
       "210866  TRAM2 R469 00-00-01  Saturday     2836495.0     27695.0  \n",
       "210954  TRAM2 R469 00-03-01  Saturday     2375701.0    367612.0  \n",
       "\n",
       "[2925 rows x 9 columns]"
      ]
     },
     "execution_count": 81,
     "metadata": {},
     "output_type": "execute_result"
    }
   ],
   "source": [
    "df_raw[ (df_raw['DIFF.ENTRIES'] > 4800) | (df_raw['DIFF.EXITS'] > 4800)] # too much number of passangers"
   ]
  },
  {
   "cell_type": "code",
   "execution_count": 82,
   "metadata": {},
   "outputs": [
    {
     "name": "stdout",
     "output_type": "stream",
     "text": [
      "Raw Data Rows: 1682683\n",
      "Extracted Data Rows: 1657046\n",
      "Eliminated Data Rows: 25637\n",
      "Elimineted Rows (%): 1.5235787132811112\n"
     ]
    }
   ],
   "source": [
    "df=df_raw[((df_raw['DIFF.ENTRIES']>=0) & (df_raw['DIFF.EXITS']>=0)) & ((df_raw['DIFF.ENTRIES']<=4880) & (df_raw['DIFF.EXITS']<=4880))]\n",
    "print(\"Raw Data Rows:\",df_raw.shape[0])\n",
    "print(\"Extracted Data Rows:\",df.shape[0])\n",
    "print(\"Eliminated Data Rows:\",df_raw.shape[0]-df.shape[0])\n",
    "print(\"Elimineted Rows (%):\",(100-(df.shape[0]/df_raw.shape[0]*100)))"
   ]
  },
  {
   "cell_type": "code",
   "execution_count": 83,
   "metadata": {
    "scrolled": true
   },
   "outputs": [
    {
     "name": "stderr",
     "output_type": "stream",
     "text": [
      "C:\\Users\\mehmet\\AppData\\Local\\Temp\\ipykernel_11252\\3937230691.py:2: SettingWithCopyWarning:\n",
      "\n",
      "\n",
      "A value is trying to be set on a copy of a slice from a DataFrame\n",
      "\n",
      "See the caveats in the documentation: https://pandas.pydata.org/pandas-docs/stable/user_guide/indexing.html#returning-a-view-versus-a-copy\n",
      "\n"
     ]
    },
    {
     "data": {
      "text/html": [
       "<div>\n",
       "<style scoped>\n",
       "    .dataframe tbody tr th:only-of-type {\n",
       "        vertical-align: middle;\n",
       "    }\n",
       "\n",
       "    .dataframe tbody tr th {\n",
       "        vertical-align: top;\n",
       "    }\n",
       "\n",
       "    .dataframe thead th {\n",
       "        text-align: right;\n",
       "    }\n",
       "</style>\n",
       "<table border=\"1\" class=\"dataframe\">\n",
       "  <thead>\n",
       "    <tr style=\"text-align: right;\">\n",
       "      <th></th>\n",
       "      <th>STATION</th>\n",
       "      <th>LINENAME</th>\n",
       "      <th>DIVISION</th>\n",
       "      <th>DATE</th>\n",
       "      <th>TIME</th>\n",
       "      <th>TURNSTILE</th>\n",
       "      <th>DAY</th>\n",
       "      <th>DIFF.ENTRIES</th>\n",
       "      <th>DIFF.EXITS</th>\n",
       "    </tr>\n",
       "  </thead>\n",
       "  <tbody>\n",
       "    <tr>\n",
       "      <th>0</th>\n",
       "      <td>59 ST</td>\n",
       "      <td>NQR456W</td>\n",
       "      <td>BMT</td>\n",
       "      <td>2022-04-16</td>\n",
       "      <td>04:00:00</td>\n",
       "      <td>A002 R051 02-00-00</td>\n",
       "      <td>Saturday</td>\n",
       "      <td>3.0</td>\n",
       "      <td>4.0</td>\n",
       "    </tr>\n",
       "    <tr>\n",
       "      <th>1</th>\n",
       "      <td>59 ST</td>\n",
       "      <td>NQR456W</td>\n",
       "      <td>BMT</td>\n",
       "      <td>2022-04-16</td>\n",
       "      <td>08:00:00</td>\n",
       "      <td>A002 R051 02-00-00</td>\n",
       "      <td>Saturday</td>\n",
       "      <td>6.0</td>\n",
       "      <td>21.0</td>\n",
       "    </tr>\n",
       "    <tr>\n",
       "      <th>2</th>\n",
       "      <td>59 ST</td>\n",
       "      <td>NQR456W</td>\n",
       "      <td>BMT</td>\n",
       "      <td>2022-04-16</td>\n",
       "      <td>12:00:00</td>\n",
       "      <td>A002 R051 02-00-00</td>\n",
       "      <td>Saturday</td>\n",
       "      <td>16.0</td>\n",
       "      <td>91.0</td>\n",
       "    </tr>\n",
       "    <tr>\n",
       "      <th>3</th>\n",
       "      <td>59 ST</td>\n",
       "      <td>NQR456W</td>\n",
       "      <td>BMT</td>\n",
       "      <td>2022-04-16</td>\n",
       "      <td>16:00:00</td>\n",
       "      <td>A002 R051 02-00-00</td>\n",
       "      <td>Saturday</td>\n",
       "      <td>43.0</td>\n",
       "      <td>54.0</td>\n",
       "    </tr>\n",
       "    <tr>\n",
       "      <th>4</th>\n",
       "      <td>59 ST</td>\n",
       "      <td>NQR456W</td>\n",
       "      <td>BMT</td>\n",
       "      <td>2022-04-16</td>\n",
       "      <td>20:00:00</td>\n",
       "      <td>A002 R051 02-00-00</td>\n",
       "      <td>Saturday</td>\n",
       "      <td>56.0</td>\n",
       "      <td>44.0</td>\n",
       "    </tr>\n",
       "    <tr>\n",
       "      <th>...</th>\n",
       "      <td>...</td>\n",
       "      <td>...</td>\n",
       "      <td>...</td>\n",
       "      <td>...</td>\n",
       "      <td>...</td>\n",
       "      <td>...</td>\n",
       "      <td>...</td>\n",
       "      <td>...</td>\n",
       "      <td>...</td>\n",
       "    </tr>\n",
       "    <tr>\n",
       "      <th>1657041</th>\n",
       "      <td>RIT-ROOSEVELT</td>\n",
       "      <td>R</td>\n",
       "      <td>RIT</td>\n",
       "      <td>2022-06-10</td>\n",
       "      <td>05:00:00</td>\n",
       "      <td>TRAM2 R469 00-05-01</td>\n",
       "      <td>Friday</td>\n",
       "      <td>0.0</td>\n",
       "      <td>0.0</td>\n",
       "    </tr>\n",
       "    <tr>\n",
       "      <th>1657042</th>\n",
       "      <td>RIT-ROOSEVELT</td>\n",
       "      <td>R</td>\n",
       "      <td>RIT</td>\n",
       "      <td>2022-06-10</td>\n",
       "      <td>09:00:00</td>\n",
       "      <td>TRAM2 R469 00-05-01</td>\n",
       "      <td>Friday</td>\n",
       "      <td>0.0</td>\n",
       "      <td>0.0</td>\n",
       "    </tr>\n",
       "    <tr>\n",
       "      <th>1657043</th>\n",
       "      <td>RIT-ROOSEVELT</td>\n",
       "      <td>R</td>\n",
       "      <td>RIT</td>\n",
       "      <td>2022-06-10</td>\n",
       "      <td>13:00:00</td>\n",
       "      <td>TRAM2 R469 00-05-01</td>\n",
       "      <td>Friday</td>\n",
       "      <td>0.0</td>\n",
       "      <td>1.0</td>\n",
       "    </tr>\n",
       "    <tr>\n",
       "      <th>1657044</th>\n",
       "      <td>RIT-ROOSEVELT</td>\n",
       "      <td>R</td>\n",
       "      <td>RIT</td>\n",
       "      <td>2022-06-10</td>\n",
       "      <td>17:00:00</td>\n",
       "      <td>TRAM2 R469 00-05-01</td>\n",
       "      <td>Friday</td>\n",
       "      <td>0.0</td>\n",
       "      <td>1.0</td>\n",
       "    </tr>\n",
       "    <tr>\n",
       "      <th>1657045</th>\n",
       "      <td>RIT-ROOSEVELT</td>\n",
       "      <td>R</td>\n",
       "      <td>RIT</td>\n",
       "      <td>2022-06-10</td>\n",
       "      <td>21:00:00</td>\n",
       "      <td>TRAM2 R469 00-05-01</td>\n",
       "      <td>Friday</td>\n",
       "      <td>0.0</td>\n",
       "      <td>2.0</td>\n",
       "    </tr>\n",
       "  </tbody>\n",
       "</table>\n",
       "<p>1657046 rows × 9 columns</p>\n",
       "</div>"
      ],
      "text/plain": [
       "               STATION LINENAME DIVISION       DATE      TIME  \\\n",
       "0                59 ST  NQR456W      BMT 2022-04-16  04:00:00   \n",
       "1                59 ST  NQR456W      BMT 2022-04-16  08:00:00   \n",
       "2                59 ST  NQR456W      BMT 2022-04-16  12:00:00   \n",
       "3                59 ST  NQR456W      BMT 2022-04-16  16:00:00   \n",
       "4                59 ST  NQR456W      BMT 2022-04-16  20:00:00   \n",
       "...                ...      ...      ...        ...       ...   \n",
       "1657041  RIT-ROOSEVELT        R      RIT 2022-06-10  05:00:00   \n",
       "1657042  RIT-ROOSEVELT        R      RIT 2022-06-10  09:00:00   \n",
       "1657043  RIT-ROOSEVELT        R      RIT 2022-06-10  13:00:00   \n",
       "1657044  RIT-ROOSEVELT        R      RIT 2022-06-10  17:00:00   \n",
       "1657045  RIT-ROOSEVELT        R      RIT 2022-06-10  21:00:00   \n",
       "\n",
       "                   TURNSTILE       DAY  DIFF.ENTRIES  DIFF.EXITS  \n",
       "0         A002 R051 02-00-00  Saturday           3.0         4.0  \n",
       "1         A002 R051 02-00-00  Saturday           6.0        21.0  \n",
       "2         A002 R051 02-00-00  Saturday          16.0        91.0  \n",
       "3         A002 R051 02-00-00  Saturday          43.0        54.0  \n",
       "4         A002 R051 02-00-00  Saturday          56.0        44.0  \n",
       "...                      ...       ...           ...         ...  \n",
       "1657041  TRAM2 R469 00-05-01    Friday           0.0         0.0  \n",
       "1657042  TRAM2 R469 00-05-01    Friday           0.0         0.0  \n",
       "1657043  TRAM2 R469 00-05-01    Friday           0.0         1.0  \n",
       "1657044  TRAM2 R469 00-05-01    Friday           0.0         1.0  \n",
       "1657045  TRAM2 R469 00-05-01    Friday           0.0         2.0  \n",
       "\n",
       "[1657046 rows x 9 columns]"
      ]
     },
     "execution_count": 83,
     "metadata": {},
     "output_type": "execute_result"
    }
   ],
   "source": [
    "df.reset_index(inplace=True)\n",
    "df.drop(columns='index',inplace=True)\n",
    "df "
   ]
  },
  {
   "cell_type": "code",
   "execution_count": 84,
   "metadata": {},
   "outputs": [
    {
     "name": "stderr",
     "output_type": "stream",
     "text": [
      "C:\\Users\\mehmet\\AppData\\Local\\Temp\\ipykernel_11252\\3289938883.py:1: SettingWithCopyWarning:\n",
      "\n",
      "\n",
      "A value is trying to be set on a copy of a slice from a DataFrame.\n",
      "Try using .loc[row_indexer,col_indexer] = value instead\n",
      "\n",
      "See the caveats in the documentation: https://pandas.pydata.org/pandas-docs/stable/user_guide/indexing.html#returning-a-view-versus-a-copy\n",
      "\n"
     ]
    }
   ],
   "source": [
    "df['TRAFFIC']=df['DIFF.ENTRIES']+df['DIFF.EXITS']"
   ]
  },
  {
   "cell_type": "code",
   "execution_count": 85,
   "metadata": {},
   "outputs": [
    {
     "data": {
      "text/html": [
       "<div>\n",
       "<style scoped>\n",
       "    .dataframe tbody tr th:only-of-type {\n",
       "        vertical-align: middle;\n",
       "    }\n",
       "\n",
       "    .dataframe tbody tr th {\n",
       "        vertical-align: top;\n",
       "    }\n",
       "\n",
       "    .dataframe thead th {\n",
       "        text-align: right;\n",
       "    }\n",
       "</style>\n",
       "<table border=\"1\" class=\"dataframe\">\n",
       "  <thead>\n",
       "    <tr style=\"text-align: right;\">\n",
       "      <th></th>\n",
       "      <th>STATION</th>\n",
       "      <th>LINENAME</th>\n",
       "      <th>DIVISION</th>\n",
       "      <th>DATE</th>\n",
       "      <th>TIME</th>\n",
       "      <th>TURNSTILE</th>\n",
       "      <th>DAY</th>\n",
       "      <th>DIFF.ENTRIES</th>\n",
       "      <th>DIFF.EXITS</th>\n",
       "      <th>TRAFFIC</th>\n",
       "    </tr>\n",
       "  </thead>\n",
       "  <tbody>\n",
       "    <tr>\n",
       "      <th>0</th>\n",
       "      <td>59 ST</td>\n",
       "      <td>NQR456W</td>\n",
       "      <td>BMT</td>\n",
       "      <td>2022-04-16</td>\n",
       "      <td>04:00:00</td>\n",
       "      <td>A002 R051 02-00-00</td>\n",
       "      <td>Saturday</td>\n",
       "      <td>3.0</td>\n",
       "      <td>4.0</td>\n",
       "      <td>7.0</td>\n",
       "    </tr>\n",
       "    <tr>\n",
       "      <th>1</th>\n",
       "      <td>59 ST</td>\n",
       "      <td>NQR456W</td>\n",
       "      <td>BMT</td>\n",
       "      <td>2022-04-16</td>\n",
       "      <td>08:00:00</td>\n",
       "      <td>A002 R051 02-00-00</td>\n",
       "      <td>Saturday</td>\n",
       "      <td>6.0</td>\n",
       "      <td>21.0</td>\n",
       "      <td>27.0</td>\n",
       "    </tr>\n",
       "    <tr>\n",
       "      <th>2</th>\n",
       "      <td>59 ST</td>\n",
       "      <td>NQR456W</td>\n",
       "      <td>BMT</td>\n",
       "      <td>2022-04-16</td>\n",
       "      <td>12:00:00</td>\n",
       "      <td>A002 R051 02-00-00</td>\n",
       "      <td>Saturday</td>\n",
       "      <td>16.0</td>\n",
       "      <td>91.0</td>\n",
       "      <td>107.0</td>\n",
       "    </tr>\n",
       "    <tr>\n",
       "      <th>3</th>\n",
       "      <td>59 ST</td>\n",
       "      <td>NQR456W</td>\n",
       "      <td>BMT</td>\n",
       "      <td>2022-04-16</td>\n",
       "      <td>16:00:00</td>\n",
       "      <td>A002 R051 02-00-00</td>\n",
       "      <td>Saturday</td>\n",
       "      <td>43.0</td>\n",
       "      <td>54.0</td>\n",
       "      <td>97.0</td>\n",
       "    </tr>\n",
       "    <tr>\n",
       "      <th>4</th>\n",
       "      <td>59 ST</td>\n",
       "      <td>NQR456W</td>\n",
       "      <td>BMT</td>\n",
       "      <td>2022-04-16</td>\n",
       "      <td>20:00:00</td>\n",
       "      <td>A002 R051 02-00-00</td>\n",
       "      <td>Saturday</td>\n",
       "      <td>56.0</td>\n",
       "      <td>44.0</td>\n",
       "      <td>100.0</td>\n",
       "    </tr>\n",
       "    <tr>\n",
       "      <th>...</th>\n",
       "      <td>...</td>\n",
       "      <td>...</td>\n",
       "      <td>...</td>\n",
       "      <td>...</td>\n",
       "      <td>...</td>\n",
       "      <td>...</td>\n",
       "      <td>...</td>\n",
       "      <td>...</td>\n",
       "      <td>...</td>\n",
       "      <td>...</td>\n",
       "    </tr>\n",
       "    <tr>\n",
       "      <th>1657041</th>\n",
       "      <td>RIT-ROOSEVELT</td>\n",
       "      <td>R</td>\n",
       "      <td>RIT</td>\n",
       "      <td>2022-06-10</td>\n",
       "      <td>05:00:00</td>\n",
       "      <td>TRAM2 R469 00-05-01</td>\n",
       "      <td>Friday</td>\n",
       "      <td>0.0</td>\n",
       "      <td>0.0</td>\n",
       "      <td>0.0</td>\n",
       "    </tr>\n",
       "    <tr>\n",
       "      <th>1657042</th>\n",
       "      <td>RIT-ROOSEVELT</td>\n",
       "      <td>R</td>\n",
       "      <td>RIT</td>\n",
       "      <td>2022-06-10</td>\n",
       "      <td>09:00:00</td>\n",
       "      <td>TRAM2 R469 00-05-01</td>\n",
       "      <td>Friday</td>\n",
       "      <td>0.0</td>\n",
       "      <td>0.0</td>\n",
       "      <td>0.0</td>\n",
       "    </tr>\n",
       "    <tr>\n",
       "      <th>1657043</th>\n",
       "      <td>RIT-ROOSEVELT</td>\n",
       "      <td>R</td>\n",
       "      <td>RIT</td>\n",
       "      <td>2022-06-10</td>\n",
       "      <td>13:00:00</td>\n",
       "      <td>TRAM2 R469 00-05-01</td>\n",
       "      <td>Friday</td>\n",
       "      <td>0.0</td>\n",
       "      <td>1.0</td>\n",
       "      <td>1.0</td>\n",
       "    </tr>\n",
       "    <tr>\n",
       "      <th>1657044</th>\n",
       "      <td>RIT-ROOSEVELT</td>\n",
       "      <td>R</td>\n",
       "      <td>RIT</td>\n",
       "      <td>2022-06-10</td>\n",
       "      <td>17:00:00</td>\n",
       "      <td>TRAM2 R469 00-05-01</td>\n",
       "      <td>Friday</td>\n",
       "      <td>0.0</td>\n",
       "      <td>1.0</td>\n",
       "      <td>1.0</td>\n",
       "    </tr>\n",
       "    <tr>\n",
       "      <th>1657045</th>\n",
       "      <td>RIT-ROOSEVELT</td>\n",
       "      <td>R</td>\n",
       "      <td>RIT</td>\n",
       "      <td>2022-06-10</td>\n",
       "      <td>21:00:00</td>\n",
       "      <td>TRAM2 R469 00-05-01</td>\n",
       "      <td>Friday</td>\n",
       "      <td>0.0</td>\n",
       "      <td>2.0</td>\n",
       "      <td>2.0</td>\n",
       "    </tr>\n",
       "  </tbody>\n",
       "</table>\n",
       "<p>1657046 rows × 10 columns</p>\n",
       "</div>"
      ],
      "text/plain": [
       "               STATION LINENAME DIVISION       DATE      TIME  \\\n",
       "0                59 ST  NQR456W      BMT 2022-04-16  04:00:00   \n",
       "1                59 ST  NQR456W      BMT 2022-04-16  08:00:00   \n",
       "2                59 ST  NQR456W      BMT 2022-04-16  12:00:00   \n",
       "3                59 ST  NQR456W      BMT 2022-04-16  16:00:00   \n",
       "4                59 ST  NQR456W      BMT 2022-04-16  20:00:00   \n",
       "...                ...      ...      ...        ...       ...   \n",
       "1657041  RIT-ROOSEVELT        R      RIT 2022-06-10  05:00:00   \n",
       "1657042  RIT-ROOSEVELT        R      RIT 2022-06-10  09:00:00   \n",
       "1657043  RIT-ROOSEVELT        R      RIT 2022-06-10  13:00:00   \n",
       "1657044  RIT-ROOSEVELT        R      RIT 2022-06-10  17:00:00   \n",
       "1657045  RIT-ROOSEVELT        R      RIT 2022-06-10  21:00:00   \n",
       "\n",
       "                   TURNSTILE       DAY  DIFF.ENTRIES  DIFF.EXITS  TRAFFIC  \n",
       "0         A002 R051 02-00-00  Saturday           3.0         4.0      7.0  \n",
       "1         A002 R051 02-00-00  Saturday           6.0        21.0     27.0  \n",
       "2         A002 R051 02-00-00  Saturday          16.0        91.0    107.0  \n",
       "3         A002 R051 02-00-00  Saturday          43.0        54.0     97.0  \n",
       "4         A002 R051 02-00-00  Saturday          56.0        44.0    100.0  \n",
       "...                      ...       ...           ...         ...      ...  \n",
       "1657041  TRAM2 R469 00-05-01    Friday           0.0         0.0      0.0  \n",
       "1657042  TRAM2 R469 00-05-01    Friday           0.0         0.0      0.0  \n",
       "1657043  TRAM2 R469 00-05-01    Friday           0.0         1.0      1.0  \n",
       "1657044  TRAM2 R469 00-05-01    Friday           0.0         1.0      1.0  \n",
       "1657045  TRAM2 R469 00-05-01    Friday           0.0         2.0      2.0  \n",
       "\n",
       "[1657046 rows x 10 columns]"
      ]
     },
     "execution_count": 85,
     "metadata": {},
     "output_type": "execute_result"
    }
   ],
   "source": [
    "df"
   ]
  },
  {
   "cell_type": "code",
   "execution_count": 86,
   "metadata": {
    "scrolled": true
   },
   "outputs": [
    {
     "name": "stderr",
     "output_type": "stream",
     "text": [
      "C:\\Users\\mehmet\\AppData\\Local\\Temp\\ipykernel_11252\\941413095.py:1: FutureWarning:\n",
      "\n",
      "Indexing with multiple keys (implicitly converted to a tuple of keys) will be deprecated, use a list instead.\n",
      "\n",
      "C:\\Users\\mehmet\\AppData\\Local\\Temp\\ipykernel_11252\\941413095.py:2: FutureWarning:\n",
      "\n",
      "Indexing with multiple keys (implicitly converted to a tuple of keys) will be deprecated, use a list instead.\n",
      "\n",
      "C:\\Users\\mehmet\\AppData\\Local\\Temp\\ipykernel_11252\\941413095.py:3: FutureWarning:\n",
      "\n",
      "Indexing with multiple keys (implicitly converted to a tuple of keys) will be deprecated, use a list instead.\n",
      "\n",
      "C:\\Users\\mehmet\\AppData\\Local\\Temp\\ipykernel_11252\\941413095.py:4: FutureWarning:\n",
      "\n",
      "Indexing with multiple keys (implicitly converted to a tuple of keys) will be deprecated, use a list instead.\n",
      "\n",
      "C:\\Users\\mehmet\\AppData\\Local\\Temp\\ipykernel_11252\\941413095.py:5: FutureWarning:\n",
      "\n",
      "Indexing with multiple keys (implicitly converted to a tuple of keys) will be deprecated, use a list instead.\n",
      "\n"
     ]
    }
   ],
   "source": [
    "division=df.groupby(by='DIVISION')['DIFF.ENTRIES','DIFF.EXITS','TRAFFIC'].sum()\n",
    "linename=df.groupby(by='LINENAME')['DIFF.ENTRIES','DIFF.EXITS','TRAFFIC'].sum()\n",
    "station=df.groupby(by='STATION')['DIFF.ENTRIES','DIFF.EXITS','TRAFFIC'].sum()\n",
    "weekday=df.groupby(by='DAY')['DIFF.ENTRIES','DIFF.EXITS','TRAFFIC'].sum()\n",
    "time=df.groupby(by='TIME')['DIFF.ENTRIES','DIFF.EXITS','TRAFFIC'].sum()\n",
    "\n",
    "division.sort_values(by='TRAFFIC',ascending=False,inplace=True)\n",
    "linename.sort_values(by='TRAFFIC',ascending=False,inplace=True)\n",
    "station.sort_values(by='TRAFFIC',ascending=False,inplace=True)\n",
    "weekday.sort_values(by='TRAFFIC',ascending=False,inplace=True)\n",
    "time.sort_values(by='TRAFFIC',ascending=False,inplace=True)\n",
    "\n",
    "\n",
    "division.reset_index(inplace=True)\n",
    "linename.reset_index(inplace=True)\n",
    "station.reset_index(inplace=True)\n",
    "weekday.reset_index(inplace=True)\n",
    "time.reset_index(inplace=True)"
   ]
  },
  {
   "cell_type": "code",
   "execution_count": 87,
   "metadata": {
    "scrolled": true
   },
   "outputs": [
    {
     "name": "stdout",
     "output_type": "stream",
     "text": [
      "  DIVISION  DIFF.ENTRIES  DIFF.EXITS      TRAFFIC\n",
      "0      IRT    45163207.0  61389544.0  106552751.0\n",
      "1      IND    39584544.0  52266545.0   91851089.0\n",
      "2      BMT    24081769.0  32380358.0   56462127.0\n",
      "3      PTH     6646596.0   7381082.0   14027678.0\n",
      "4      RIT      398148.0      8782.0     406930.0\n",
      "5      SRT      245287.0        29.0     245316.0\n",
      "Division Types: 6 \n",
      "\n",
      "  LINENAME  DIFF.ENTRIES  DIFF.EXITS     TRAFFIC\n",
      "0        1    13330441.0  15735184.0  29065625.0\n",
      "1        6     6604333.0   9958575.0  16562908.0\n",
      "2        7     6559428.0   8810106.0  15369534.0\n",
      "3        F     3544407.0   4287812.0   7832219.0\n",
      "4       25     3877067.0   3487131.0   7364198.0\n",
      "5        L     2625369.0   4466915.0   7092284.0\n",
      "6      123     2345846.0   3976328.0   6322174.0\n",
      "Linename Types: 114 \n",
      "\n",
      "           STATION  DIFF.ENTRIES  DIFF.EXITS    TRAFFIC\n",
      "0   34 ST-PENN STA     2752021.0   4364833.0  7116854.0\n",
      "1  GRD CNTRL-42 ST     2205249.0   3685393.0  5890642.0\n",
      "2  34 ST-HERALD SQ     2052947.0   3355003.0  5407950.0\n",
      "3   14 ST-UNION SQ     1715790.0   2997435.0  4713225.0\n",
      "4   TIMES SQ-42 ST     1766063.0   2939872.0  4705935.0\n",
      "5            86 ST     1803066.0   2776391.0  4579457.0\n",
      "6            23 ST     1886583.0   2626933.0  4513516.0\n",
      "Station Types: 379 \n",
      "\n",
      "         DAY  DIFF.ENTRIES  DIFF.EXITS     TRAFFIC\n",
      "0  Wednesday    20161342.0  25787444.0  45948786.0\n",
      "1   Thursday    19852568.0  25536938.0  45389506.0\n",
      "2    Tuesday    19565320.0  24946842.0  44512162.0\n",
      "3     Friday    18943163.0  24455739.0  43398902.0\n",
      "4     Monday    16800962.0  21529019.0  38329981.0\n",
      "5   Saturday    11281344.0  16694262.0  27975606.0\n",
      "6     Sunday     9514852.0  14476096.0  23990948.0 \n",
      "\n",
      "       TIME  DIFF.ENTRIES  DIFF.EXITS     TRAFFIC\n",
      "0  20:00:00    17974109.0  25461838.0  43435947.0\n",
      "1  16:00:00    14894492.0  18806425.0  33700917.0\n",
      "2  12:00:00    13950095.0  19658185.0  33608280.0\n",
      "3  17:00:00    11703425.0  13747717.0  25451142.0\n",
      "4  21:00:00     9316222.0  14044794.0  23361016.0\n",
      "5  09:00:00     9244320.0   9484496.0  18728816.0\n",
      "6  13:00:00     7622930.0  10706393.0  18329323.0\n"
     ]
    }
   ],
   "source": [
    "print(division.sort_values(by=['TRAFFIC'],ascending=False)[0:7])\n",
    "print(\"Division Types:\",df['DIVISION'].nunique(),\"\\n\")\n",
    "print(linename.sort_values(by=['TRAFFIC'],ascending=False)[0:7])\n",
    "print(\"Linename Types:\",df['LINENAME'].nunique(),\"\\n\")\n",
    "print(station.sort_values(by=['TRAFFIC'],ascending=False)[0:7])\n",
    "print(\"Station Types:\",df['STATION'].nunique(),\"\\n\")\n",
    "print(weekday.sort_values(by=['TRAFFIC'],ascending=False)[0:7],\"\\n\")\n",
    "print(time.sort_values(by=['TRAFFIC'],ascending=False)[0:7])"
   ]
  },
  {
   "cell_type": "code",
   "execution_count": 88,
   "metadata": {},
   "outputs": [
    {
     "data": {
      "image/png": "[encoded data removed]",
      "text/plain": [
       "<Figure size 500x600 with 1 Axes>"
      ]
     },
     "metadata": {},
     "output_type": "display_data"
    }
   ],
   "source": [
    "division.plot(\n",
    "              kind=\"bar\",\n",
    "              x='DIVISION',y=\"TRAFFIC\",\n",
    "              label='Passenger',ylabel='Cumulative Passengers Traffic (*10 million)',\n",
    "              grid=True,\n",
    "              ylim=(0,120000000),\n",
    "              title='Passanger Traffic by Division',\n",
    "              figsize=(5,6)\n",
    "              )\n",
    "\n",
    "plt.show()"
   ]
  },
  {
   "cell_type": "code",
   "execution_count": 89,
   "metadata": {},
   "outputs": [
    {
     "data": {
      "image/png": "[encoded data removed]",
      "text/plain": [
       "<Figure size 500x500 with 1 Axes>"
      ]
     },
     "metadata": {},
     "output_type": "display_data"
    }
   ],
   "source": [
    "linename[0:7].plot(\n",
    "              kind=\"bar\",\n",
    "              x=\"LINENAME\",y=\"TRAFFIC\",\n",
    "              label='Passenger',ylabel='Cumulative Passengers Traffic (*10 million)',\n",
    "              grid=True,\n",
    "              ylim=(0,30096227),\n",
    "              title='22/04/23 - 22/06/11\\nPassanger Traffic by Linename',\n",
    "              figsize=(5,5)\n",
    "                   )\n",
    "plt.show()"
   ]
  },
  {
   "cell_type": "code",
   "execution_count": 90,
   "metadata": {
    "scrolled": true
   },
   "outputs": [
    {
     "data": {
      "image/png": "[encoded data removed]",
      "text/plain": [
       "<Figure size 500x500 with 1 Axes>"
      ]
     },
     "metadata": {},
     "output_type": "display_data"
    }
   ],
   "source": [
    "weekday.plot( \n",
    "              kind=\"bar\",\n",
    "              x=\"DAY\",y=\"TRAFFIC\",\n",
    "              label='Passenger',ylabel='Cumulative Passengers Traffic (*10 million)',\n",
    "              grid=True,\n",
    "              ylim=(0,50000000),\n",
    "              title='Passanger Traffic by Weekdays',\n",
    "              figsize=(5,5)\n",
    "             )\n",
    "plt.show()"
   ]
  },
  {
   "cell_type": "code",
   "execution_count": 91,
   "metadata": {
    "scrolled": true
   },
   "outputs": [
    {
     "data": {
      "image/png": "[encoded data removed]",
      "text/plain": [
       "<Figure size 500x600 with 1 Axes>"
      ]
     },
     "metadata": {},
     "output_type": "display_data"
    }
   ],
   "source": [
    "time[0:5].plot(kind=\"bar\",\n",
    "              x='TIME',y=\"TRAFFIC\",\n",
    "              label='Passenger',ylabel='Cumulative Passengers Traffic (*10 million)',\n",
    "              grid=True,\n",
    "              ylim=(0,45000000),\n",
    "              title='Passanger Traffic by Last 4 Hours',\n",
    "              figsize=(5,6))\n",
    "plt.show()"
   ]
  },
  {
   "cell_type": "code",
   "execution_count": 92,
   "metadata": {
    "scrolled": true
   },
   "outputs": [
    {
     "data": {
      "image/png": "[encoded data removed]",
      "text/plain": [
       "<Figure size 500x500 with 1 Axes>"
      ]
     },
     "metadata": {},
     "output_type": "display_data"
    }
   ],
   "source": [
    "station[0:7].plot(\n",
    "                  kind=\"bar\",\n",
    "                  x=\"STATION\",y=\"TRAFFIC\",\n",
    "                  label='Passenger',ylabel='Cumulative Passengers Traffic (*1 million)',\n",
    "                  grid=True,\n",
    "                  ylim=(0,7500000),\n",
    "                  title='Passanger Traffic by Station',\n",
    "                  figsize=(5,5)\n",
    "                 )\n",
    "plt.show()"
   ]
  },
  {
   "cell_type": "code",
   "execution_count": 93,
   "metadata": {
    "scrolled": true
   },
   "outputs": [
    {
     "data": {
      "image/png": "[encoded data removed]",
      "text/plain": [
       "<Figure size 300x300 with 1 Axes>"
      ]
     },
     "metadata": {},
     "output_type": "display_data"
    },
    {
     "data": {
      "image/png": "[encoded data removed]",
      "text/plain": [
       "<Figure size 300x300 with 1 Axes>"
      ]
     },
     "metadata": {},
     "output_type": "display_data"
    }
   ],
   "source": [
    "station1day=df[df['STATION']=='34 ST-PENN STA'].groupby(by='DAY')['TRAFFIC'].sum()\n",
    "station1time=df[df['STATION']=='34 ST-PENN STA'].groupby(by='TIME')['TRAFFIC'].sum()\n",
    "station1day.sort_values(ascending=False).plot(kind='bar',figsize=(3,3),ylabel='Cumulative Passengers Traffic\\n(*1 million)',title='34 ST-PENN STA\\nPassanger Traffic by Weekdays')\n",
    "plt.show()\n",
    "station1time.sort_values(ascending=False)[0:5].plot(kind='bar',figsize=(3,3),title='Passanger Traffic by Time',ylabel='Cumulative Passengers Traffic\\n(*1 million)')\n",
    "plt.show()\n"
   ]
  },
  {
   "cell_type": "code",
   "execution_count": 94,
   "metadata": {},
   "outputs": [
    {
     "data": {
      "image/png": "[encoded data removed]",
      "text/plain": [
       "<Figure size 300x300 with 1 Axes>"
      ]
     },
     "metadata": {},
     "output_type": "display_data"
    },
    {
     "data": {
      "image/png": "[encoded data removed]",
      "text/plain": [
       "<Figure size 300x300 with 1 Axes>"
      ]
     },
     "metadata": {},
     "output_type": "display_data"
    }
   ],
   "source": [
    "station2day=df[df['STATION']=='GRD CNTRL-42 ST'].groupby(by='DAY')['TRAFFIC'].sum()\n",
    "station2time=df[df['STATION']=='GRD CNTRL-42 ST'].groupby(by='TIME')['TRAFFIC'].sum()\n",
    "station2day.sort_values(ascending=False).plot(kind='bar',figsize=(3,3),ylabel='Cumulative Passengers Traffic\\n(*1 million)',title='34 ST-PENN STA\\nPassanger Traffic by Weekdays')\n",
    "plt.show()\n",
    "station1time.sort_values(ascending=False)[0:5].plot(kind='bar',figsize=(3,3),title='Passanger Traffic by Time',ylabel='Cumulative Passengers Traffic\\n(*1 million)')\n",
    "plt.show()"
   ]
  },
  {
   "cell_type": "code",
   "execution_count": 95,
   "metadata": {
    "scrolled": true
   },
   "outputs": [
    {
     "data": {
      "application/vnd.plotly.v1+json": {
       "config": {
        "plotlyServerURL": "https://plot.ly"
       },
       "data": [
        {
         "alignmentgroup": "True",
         "hovertemplate": "DIVISION=%{x}<br>TRAFFIC=%{y}<extra></extra>",
         "legendgroup": "",
         "marker": {
          "color": "#636efa",
          "pattern": {
           "shape": ""
          }
         },
         "name": "",
         "offsetgroup": "",
         "orientation": "v",
         "showlegend": false,
         "textposition": "auto",
         "texttemplate": "%{y}",
         "type": "bar",
         "x": [
          "IRT",
          "IND",
          "BMT",
          "PTH",
          "RIT",
          "SRT"
         ],
         "xaxis": "x",
         "y": [
          106552751,
          91851089,
          56462127,
          14027678,
          406930,
          245316
         ],
         "yaxis": "y"
        }
       ],
       "layout": {
        "barmode": "relative",
        "height": 400,
        "legend": {
         "tracegroupgap": 0
        },
        "template": {
         "data": {
          "bar": [
           {
            "error_x": {
             "color": "#2a3f5f"
            },
            "error_y": {
             "color": "#2a3f5f"
            },
            "marker": {
             "line": {
              "color": "#E5ECF6",
              "width": 0.5
             },
             "pattern": {
              "fillmode": "overlay",
              "size": 10,
              "solidity": 0.2
             }
            },
            "type": "bar"
           }
          ],
          "barpolar": [
           {
            "marker": {
             "line": {
              "color": "#E5ECF6",
              "width": 0.5
             },
             "pattern": {
              "fillmode": "overlay",
              "size": 10,
              "solidity": 0.2
             }
            },
            "type": "barpolar"
           }
          ],
          "carpet": [
           {
            "aaxis": {
             "endlinecolor": "#2a3f5f",
             "gridcolor": "white",
             "linecolor": "white",
             "minorgridcolor": "white",
             "startlinecolor": "#2a3f5f"
            },
            "baxis": {
             "endlinecolor": "#2a3f5f",
             "gridcolor": "white",
             "linecolor": "white",
             "minorgridcolor": "white",
             "startlinecolor": "#2a3f5f"
            },
            "type": "carpet"
           }
          ],
          "choropleth": [
           {
            "colorbar": {
             "outlinewidth": 0,
             "ticks": ""
            },
            "type": "choropleth"
           }
          ],
          "contour": [
           {
            "colorbar": {
             "outlinewidth": 0,
             "ticks": ""
            },
            "colorscale": [
             [
              0,
              "#0d0887"
             ],
             [
              0.1111111111111111,
              "#46039f"
             ],
             [
              0.2222222222222222,
              "#7201a8"
             ],
             [
              0.3333333333333333,
              "#9c179e"
             ],
             [
              0.4444444444444444,
              "#bd3786"
             ],
             [
              0.5555555555555556,
              "#d8576b"
             ],
             [
              0.6666666666666666,
              "#ed7953"
             ],
             [
              0.7777777777777778,
              "#fb9f3a"
             ],
             [
              0.8888888888888888,
              "#fdca26"
             ],
             [
              1,
              "#f0f921"
             ]
            ],
            "type": "contour"
           }
          ],
          "contourcarpet": [
           {
            "colorbar": {
             "outlinewidth": 0,
             "ticks": ""
            },
            "type": "contourcarpet"
           }
          ],
          "heatmap": [
           {
            "colorbar": {
             "outlinewidth": 0,
             "ticks": ""
            },
            "colorscale": [
             [
              0,
              "#0d0887"
             ],
             [
              0.1111111111111111,
              "#46039f"
             ],
             [
              0.2222222222222222,
              "#7201a8"
             ],
             [
              0.3333333333333333,
              "#9c179e"
             ],
             [
              0.4444444444444444,
              "#bd3786"
             ],
             [
              0.5555555555555556,
              "#d8576b"
             ],
             [
              0.6666666666666666,
              "#ed7953"
             ],
             [
              0.7777777777777778,
              "#fb9f3a"
             ],
             [
              0.8888888888888888,
              "#fdca26"
             ],
             [
              1,
              "#f0f921"
             ]
            ],
            "type": "heatmap"
           }
          ],
          "heatmapgl": [
           {
            "colorbar": {
             "outlinewidth": 0,
             "ticks": ""
            },
            "colorscale": [
             [
              0,
              "#0d0887"
             ],
             [
              0.1111111111111111,
              "#46039f"
             ],
             [
              0.2222222222222222,
              "#7201a8"
             ],
             [
              0.3333333333333333,
              "#9c179e"
             ],
             [
              0.4444444444444444,
              "#bd3786"
             ],
             [
              0.5555555555555556,
              "#d8576b"
             ],
             [
              0.6666666666666666,
              "#ed7953"
             ],
             [
              0.7777777777777778,
              "#fb9f3a"
             ],
             [
              0.8888888888888888,
              "#fdca26"
             ],
             [
              1,
              "#f0f921"
             ]
            ],
            "type": "heatmapgl"
           }
          ],
          "histogram": [
           {
            "marker": {
             "pattern": {
              "fillmode": "overlay",
              "size": 10,
              "solidity": 0.2
             }
            },
            "type": "histogram"
           }
          ],
          "histogram2d": [
           {
            "colorbar": {
             "outlinewidth": 0,
             "ticks": ""
            },
            "colorscale": [
             [
              0,
              "#0d0887"
             ],
             [
              0.1111111111111111,
              "#46039f"
             ],
             [
              0.2222222222222222,
              "#7201a8"
             ],
             [
              0.3333333333333333,
              "#9c179e"
             ],
             [
              0.4444444444444444,
              "#bd3786"
             ],
             [
              0.5555555555555556,
              "#d8576b"
             ],
             [
              0.6666666666666666,
              "#ed7953"
             ],
             [
              0.7777777777777778,
              "#fb9f3a"
             ],
             [
              0.8888888888888888,
              "#fdca26"
             ],
             [
              1,
              "#f0f921"
             ]
            ],
            "type": "histogram2d"
           }
          ],
          "histogram2dcontour": [
           {
            "colorbar": {
             "outlinewidth": 0,
             "ticks": ""
            },
            "colorscale": [
             [
              0,
              "#0d0887"
             ],
             [
              0.1111111111111111,
              "#46039f"
             ],
             [
              0.2222222222222222,
              "#7201a8"
             ],
             [
              0.3333333333333333,
              "#9c179e"
             ],
             [
              0.4444444444444444,
              "#bd3786"
             ],
             [
              0.5555555555555556,
              "#d8576b"
             ],
             [
              0.6666666666666666,
              "#ed7953"
             ],
             [
              0.7777777777777778,
              "#fb9f3a"
             ],
             [
              0.8888888888888888,
              "#fdca26"
             ],
             [
              1,
              "#f0f921"
             ]
            ],
            "type": "histogram2dcontour"
           }
          ],
          "mesh3d": [
           {
            "colorbar": {
             "outlinewidth": 0,
             "ticks": ""
            },
            "type": "mesh3d"
           }
          ],
          "parcoords": [
           {
            "line": {
             "colorbar": {
              "outlinewidth": 0,
              "ticks": ""
             }
            },
            "type": "parcoords"
           }
          ],
          "pie": [
           {
            "automargin": true,
            "type": "pie"
           }
          ],
          "scatter": [
           {
            "fillpattern": {
             "fillmode": "overlay",
             "size": 10,
             "solidity": 0.2
            },
            "type": "scatter"
           }
          ],
          "scatter3d": [
           {
            "line": {
             "colorbar": {
              "outlinewidth": 0,
              "ticks": ""
             }
            },
            "marker": {
             "colorbar": {
              "outlinewidth": 0,
              "ticks": ""
             }
            },
            "type": "scatter3d"
           }
          ],
          "scattercarpet": [
           {
            "marker": {
             "colorbar": {
              "outlinewidth": 0,
              "ticks": ""
             }
            },
            "type": "scattercarpet"
           }
          ],
          "scattergeo": [
           {
            "marker": {
             "colorbar": {
              "outlinewidth": 0,
              "ticks": ""
             }
            },
            "type": "scattergeo"
           }
          ],
          "scattergl": [
           {
            "marker": {
             "colorbar": {
              "outlinewidth": 0,
              "ticks": ""
             }
            },
            "type": "scattergl"
           }
          ],
          "scattermapbox": [
           {
            "marker": {
             "colorbar": {
              "outlinewidth": 0,
              "ticks": ""
             }
            },
            "type": "scattermapbox"
           }
          ],
          "scatterpolar": [
           {
            "marker": {
             "colorbar": {
              "outlinewidth": 0,
              "ticks": ""
             }
            },
            "type": "scatterpolar"
           }
          ],
          "scatterpolargl": [
           {
            "marker": {
             "colorbar": {
              "outlinewidth": 0,
              "ticks": ""
             }
            },
            "type": "scatterpolargl"
           }
          ],
          "scatterternary": [
           {
            "marker": {
             "colorbar": {
              "outlinewidth": 0,
              "ticks": ""
             }
            },
            "type": "scatterternary"
           }
          ],
          "surface": [
           {
            "colorbar": {
             "outlinewidth": 0,
             "ticks": ""
            },
            "colorscale": [
             [
              0,
              "#0d0887"
             ],
             [
              0.1111111111111111,
              "#46039f"
             ],
             [
              0.2222222222222222,
              "#7201a8"
             ],
             [
              0.3333333333333333,
              "#9c179e"
             ],
             [
              0.4444444444444444,
              "#bd3786"
             ],
             [
              0.5555555555555556,
              "#d8576b"
             ],
             [
              0.6666666666666666,
              "#ed7953"
             ],
             [
              0.7777777777777778,
              "#fb9f3a"
             ],
             [
              0.8888888888888888,
              "#fdca26"
             ],
             [
              1,
              "#f0f921"
             ]
            ],
            "type": "surface"
           }
          ],
          "table": [
           {
            "cells": {
             "fill": {
              "color": "#EBF0F8"
             },
             "line": {
              "color": "white"
             }
            },
            "header": {
             "fill": {
              "color": "#C8D4E3"
             },
             "line": {
              "color": "white"
             }
            },
            "type": "table"
           }
          ]
         },
         "layout": {
          "annotationdefaults": {
           "arrowcolor": "#2a3f5f",
           "arrowhead": 0,
           "arrowwidth": 1
          },
          "autotypenumbers": "strict",
          "coloraxis": {
           "colorbar": {
            "outlinewidth": 0,
            "ticks": ""
           }
          },
          "colorscale": {
           "diverging": [
            [
             0,
             "#8e0152"
            ],
            [
             0.1,
             "#c51b7d"
            ],
            [
             0.2,
             "#de77ae"
            ],
            [
             0.3,
             "#f1b6da"
            ],
            [
             0.4,
             "#fde0ef"
            ],
            [
             0.5,
             "#f7f7f7"
            ],
            [
             0.6,
             "#e6f5d0"
            ],
            [
             0.7,
             "#b8e186"
            ],
            [
             0.8,
             "#7fbc41"
            ],
            [
             0.9,
             "#4d9221"
            ],
            [
             1,
             "#276419"
            ]
           ],
           "sequential": [
            [
             0,
             "#0d0887"
            ],
            [
             0.1111111111111111,
             "#46039f"
            ],
            [
             0.2222222222222222,
             "#7201a8"
            ],
            [
             0.3333333333333333,
             "#9c179e"
            ],
            [
             0.4444444444444444,
             "#bd3786"
            ],
            [
             0.5555555555555556,
             "#d8576b"
            ],
            [
             0.6666666666666666,
             "#ed7953"
            ],
            [
             0.7777777777777778,
             "#fb9f3a"
            ],
            [
             0.8888888888888888,
             "#fdca26"
            ],
            [
             1,
             "#f0f921"
            ]
           ],
           "sequentialminus": [
            [
             0,
             "#0d0887"
            ],
            [
             0.1111111111111111,
             "#46039f"
            ],
            [
             0.2222222222222222,
             "#7201a8"
            ],
            [
             0.3333333333333333,
             "#9c179e"
            ],
            [
             0.4444444444444444,
             "#bd3786"
            ],
            [
             0.5555555555555556,
             "#d8576b"
            ],
            [
             0.6666666666666666,
             "#ed7953"
            ],
            [
             0.7777777777777778,
             "#fb9f3a"
            ],
            [
             0.8888888888888888,
             "#fdca26"
            ],
            [
             1,
             "#f0f921"
            ]
           ]
          },
          "colorway": [
           "#636efa",
           "#EF553B",
           "#00cc96",
           "#ab63fa",
           "#FFA15A",
           "#19d3f3",
           "#FF6692",
           "#B6E880",
           "#FF97FF",
           "#FECB52"
          ],
          "font": {
           "color": "#2a3f5f"
          },
          "geo": {
           "bgcolor": "white",
           "lakecolor": "white",
           "landcolor": "#E5ECF6",
           "showlakes": true,
           "showland": true,
           "subunitcolor": "white"
          },
          "hoverlabel": {
           "align": "left"
          },
          "hovermode": "closest",
          "mapbox": {
           "style": "light"
          },
          "paper_bgcolor": "white",
          "plot_bgcolor": "#E5ECF6",
          "polar": {
           "angularaxis": {
            "gridcolor": "white",
            "linecolor": "white",
            "ticks": ""
           },
           "bgcolor": "#E5ECF6",
           "radialaxis": {
            "gridcolor": "white",
            "linecolor": "white",
            "ticks": ""
           }
          },
          "scene": {
           "xaxis": {
            "backgroundcolor": "#E5ECF6",
            "gridcolor": "white",
            "gridwidth": 2,
            "linecolor": "white",
            "showbackground": true,
            "ticks": "",
            "zerolinecolor": "white"
           },
           "yaxis": {
            "backgroundcolor": "#E5ECF6",
            "gridcolor": "white",
            "gridwidth": 2,
            "linecolor": "white",
            "showbackground": true,
            "ticks": "",
            "zerolinecolor": "white"
           },
           "zaxis": {
            "backgroundcolor": "#E5ECF6",
            "gridcolor": "white",
            "gridwidth": 2,
            "linecolor": "white",
            "showbackground": true,
            "ticks": "",
            "zerolinecolor": "white"
           }
          },
          "shapedefaults": {
           "line": {
            "color": "#2a3f5f"
           }
          },
          "ternary": {
           "aaxis": {
            "gridcolor": "white",
            "linecolor": "white",
            "ticks": ""
           },
           "baxis": {
            "gridcolor": "white",
            "linecolor": "white",
            "ticks": ""
           },
           "bgcolor": "#E5ECF6",
           "caxis": {
            "gridcolor": "white",
            "linecolor": "white",
            "ticks": ""
           }
          },
          "title": {
           "x": 0.05
          },
          "xaxis": {
           "automargin": true,
           "gridcolor": "white",
           "linecolor": "white",
           "ticks": "",
           "title": {
            "standoff": 15
           },
           "zerolinecolor": "white",
           "zerolinewidth": 2
          },
          "yaxis": {
           "automargin": true,
           "gridcolor": "white",
           "linecolor": "white",
           "ticks": "",
           "title": {
            "standoff": 15
           },
           "zerolinecolor": "white",
           "zerolinewidth": 2
          }
         }
        },
        "title": {
         "text": "Deneme Title"
        },
        "width": 600,
        "xaxis": {
         "anchor": "y",
         "domain": [
          0,
          1
         ],
         "title": {
          "text": "DIVISION"
         }
        },
        "yaxis": {
         "anchor": "x",
         "domain": [
          0,
          1
         ],
         "title": {
          "text": "TRAFFIC"
         }
        }
       }
      },
      "text/html": [
       "<div>                            <div id=\"ff7df0e1-abc3-43fb-8aea-fc07862bc1f2\" class=\"plotly-graph-div\" style=\"height:400px; width:600px;\"></div>            <script type=\"text/javascript\">                require([\"plotly\"], function(Plotly) {                    window.PLOTLYENV=window.PLOTLYENV || {};                                    if (document.getElementById(\"ff7df0e1-abc3-43fb-8aea-fc07862bc1f2\")) {                    Plotly.newPlot(                        \"ff7df0e1-abc3-43fb-8aea-fc07862bc1f2\",                        [{\"alignmentgroup\":\"True\",\"hovertemplate\":\"DIVISION=%{x}<br>TRAFFIC=%{y}<extra></extra>\",\"legendgroup\":\"\",\"marker\":{\"color\":\"#636efa\",\"pattern\":{\"shape\":\"\"}},\"name\":\"\",\"offsetgroup\":\"\",\"orientation\":\"v\",\"showlegend\":false,\"textposition\":\"auto\",\"texttemplate\":\"%{y}\",\"x\":[\"IRT\",\"IND\",\"BMT\",\"PTH\",\"RIT\",\"SRT\"],\"xaxis\":\"x\",\"y\":[106552751.0,91851089.0,56462127.0,14027678.0,406930.0,245316.0],\"yaxis\":\"y\",\"type\":\"bar\"}],                        {\"template\":{\"data\":{\"histogram2dcontour\":[{\"type\":\"histogram2dcontour\",\"colorbar\":{\"outlinewidth\":0,\"ticks\":\"\"},\"colorscale\":[[0.0,\"#0d0887\"],[0.1111111111111111,\"#46039f\"],[0.2222222222222222,\"#7201a8\"],[0.3333333333333333,\"#9c179e\"],[0.4444444444444444,\"#bd3786\"],[0.5555555555555556,\"#d8576b\"],[0.6666666666666666,\"#ed7953\"],[0.7777777777777778,\"#fb9f3a\"],[0.8888888888888888,\"#fdca26\"],[1.0,\"#f0f921\"]]}],\"choropleth\":[{\"type\":\"choropleth\",\"colorbar\":{\"outlinewidth\":0,\"ticks\":\"\"}}],\"histogram2d\":[{\"type\":\"histogram2d\",\"colorbar\":{\"outlinewidth\":0,\"ticks\":\"\"},\"colorscale\":[[0.0,\"#0d0887\"],[0.1111111111111111,\"#46039f\"],[0.2222222222222222,\"#7201a8\"],[0.3333333333333333,\"#9c179e\"],[0.4444444444444444,\"#bd3786\"],[0.5555555555555556,\"#d8576b\"],[0.6666666666666666,\"#ed7953\"],[0.7777777777777778,\"#fb9f3a\"],[0.8888888888888888,\"#fdca26\"],[1.0,\"#f0f921\"]]}],\"heatmap\":[{\"type\":\"heatmap\",\"colorbar\":{\"outlinewidth\":0,\"ticks\":\"\"},\"colorscale\":[[0.0,\"#0d0887\"],[0.1111111111111111,\"#46039f\"],[0.2222222222222222,\"#7201a8\"],[0.3333333333333333,\"#9c179e\"],[0.4444444444444444,\"#bd3786\"],[0.5555555555555556,\"#d8576b\"],[0.6666666666666666,\"#ed7953\"],[0.7777777777777778,\"#fb9f3a\"],[0.8888888888888888,\"#fdca26\"],[1.0,\"#f0f921\"]]}],\"heatmapgl\":[{\"type\":\"heatmapgl\",\"colorbar\":{\"outlinewidth\":0,\"ticks\":\"\"},\"colorscale\":[[0.0,\"#0d0887\"],[0.1111111111111111,\"#46039f\"],[0.2222222222222222,\"#7201a8\"],[0.3333333333333333,\"#9c179e\"],[0.4444444444444444,\"#bd3786\"],[0.5555555555555556,\"#d8576b\"],[0.6666666666666666,\"#ed7953\"],[0.7777777777777778,\"#fb9f3a\"],[0.8888888888888888,\"#fdca26\"],[1.0,\"#f0f921\"]]}],\"contourcarpet\":[{\"type\":\"contourcarpet\",\"colorbar\":{\"outlinewidth\":0,\"ticks\":\"\"}}],\"contour\":[{\"type\":\"contour\",\"colorbar\":{\"outlinewidth\":0,\"ticks\":\"\"},\"colorscale\":[[0.0,\"#0d0887\"],[0.1111111111111111,\"#46039f\"],[0.2222222222222222,\"#7201a8\"],[0.3333333333333333,\"#9c179e\"],[0.4444444444444444,\"#bd3786\"],[0.5555555555555556,\"#d8576b\"],[0.6666666666666666,\"#ed7953\"],[0.7777777777777778,\"#fb9f3a\"],[0.8888888888888888,\"#fdca26\"],[1.0,\"#f0f921\"]]}],\"surface\":[{\"type\":\"surface\",\"colorbar\":{\"outlinewidth\":0,\"ticks\":\"\"},\"colorscale\":[[0.0,\"#0d0887\"],[0.1111111111111111,\"#46039f\"],[0.2222222222222222,\"#7201a8\"],[0.3333333333333333,\"#9c179e\"],[0.4444444444444444,\"#bd3786\"],[0.5555555555555556,\"#d8576b\"],[0.6666666666666666,\"#ed7953\"],[0.7777777777777778,\"#fb9f3a\"],[0.8888888888888888,\"#fdca26\"],[1.0,\"#f0f921\"]]}],\"mesh3d\":[{\"type\":\"mesh3d\",\"colorbar\":{\"outlinewidth\":0,\"ticks\":\"\"}}],\"scatter\":[{\"fillpattern\":{\"fillmode\":\"overlay\",\"size\":10,\"solidity\":0.2},\"type\":\"scatter\"}],\"parcoords\":[{\"type\":\"parcoords\",\"line\":{\"colorbar\":{\"outlinewidth\":0,\"ticks\":\"\"}}}],\"scatterpolargl\":[{\"type\":\"scatterpolargl\",\"marker\":{\"colorbar\":{\"outlinewidth\":0,\"ticks\":\"\"}}}],\"bar\":[{\"error_x\":{\"color\":\"#2a3f5f\"},\"error_y\":{\"color\":\"#2a3f5f\"},\"marker\":{\"line\":{\"color\":\"#E5ECF6\",\"width\":0.5},\"pattern\":{\"fillmode\":\"overlay\",\"size\":10,\"solidity\":0.2}},\"type\":\"bar\"}],\"scattergeo\":[{\"type\":\"scattergeo\",\"marker\":{\"colorbar\":{\"outlinewidth\":0,\"ticks\":\"\"}}}],\"scatterpolar\":[{\"type\":\"scatterpolar\",\"marker\":{\"colorbar\":{\"outlinewidth\":0,\"ticks\":\"\"}}}],\"histogram\":[{\"marker\":{\"pattern\":{\"fillmode\":\"overlay\",\"size\":10,\"solidity\":0.2}},\"type\":\"histogram\"}],\"scattergl\":[{\"type\":\"scattergl\",\"marker\":{\"colorbar\":{\"outlinewidth\":0,\"ticks\":\"\"}}}],\"scatter3d\":[{\"type\":\"scatter3d\",\"line\":{\"colorbar\":{\"outlinewidth\":0,\"ticks\":\"\"}},\"marker\":{\"colorbar\":{\"outlinewidth\":0,\"ticks\":\"\"}}}],\"scattermapbox\":[{\"type\":\"scattermapbox\",\"marker\":{\"colorbar\":{\"outlinewidth\":0,\"ticks\":\"\"}}}],\"scatterternary\":[{\"type\":\"scatterternary\",\"marker\":{\"colorbar\":{\"outlinewidth\":0,\"ticks\":\"\"}}}],\"scattercarpet\":[{\"type\":\"scattercarpet\",\"marker\":{\"colorbar\":{\"outlinewidth\":0,\"ticks\":\"\"}}}],\"carpet\":[{\"aaxis\":{\"endlinecolor\":\"#2a3f5f\",\"gridcolor\":\"white\",\"linecolor\":\"white\",\"minorgridcolor\":\"white\",\"startlinecolor\":\"#2a3f5f\"},\"baxis\":{\"endlinecolor\":\"#2a3f5f\",\"gridcolor\":\"white\",\"linecolor\":\"white\",\"minorgridcolor\":\"white\",\"startlinecolor\":\"#2a3f5f\"},\"type\":\"carpet\"}],\"table\":[{\"cells\":{\"fill\":{\"color\":\"#EBF0F8\"},\"line\":{\"color\":\"white\"}},\"header\":{\"fill\":{\"color\":\"#C8D4E3\"},\"line\":{\"color\":\"white\"}},\"type\":\"table\"}],\"barpolar\":[{\"marker\":{\"line\":{\"color\":\"#E5ECF6\",\"width\":0.5},\"pattern\":{\"fillmode\":\"overlay\",\"size\":10,\"solidity\":0.2}},\"type\":\"barpolar\"}],\"pie\":[{\"automargin\":true,\"type\":\"pie\"}]},\"layout\":{\"autotypenumbers\":\"strict\",\"colorway\":[\"#636efa\",\"#EF553B\",\"#00cc96\",\"#ab63fa\",\"#FFA15A\",\"#19d3f3\",\"#FF6692\",\"#B6E880\",\"#FF97FF\",\"#FECB52\"],\"font\":{\"color\":\"#2a3f5f\"},\"hovermode\":\"closest\",\"hoverlabel\":{\"align\":\"left\"},\"paper_bgcolor\":\"white\",\"plot_bgcolor\":\"#E5ECF6\",\"polar\":{\"bgcolor\":\"#E5ECF6\",\"angularaxis\":{\"gridcolor\":\"white\",\"linecolor\":\"white\",\"ticks\":\"\"},\"radialaxis\":{\"gridcolor\":\"white\",\"linecolor\":\"white\",\"ticks\":\"\"}},\"ternary\":{\"bgcolor\":\"#E5ECF6\",\"aaxis\":{\"gridcolor\":\"white\",\"linecolor\":\"white\",\"ticks\":\"\"},\"baxis\":{\"gridcolor\":\"white\",\"linecolor\":\"white\",\"ticks\":\"\"},\"caxis\":{\"gridcolor\":\"white\",\"linecolor\":\"white\",\"ticks\":\"\"}},\"coloraxis\":{\"colorbar\":{\"outlinewidth\":0,\"ticks\":\"\"}},\"colorscale\":{\"sequential\":[[0.0,\"#0d0887\"],[0.1111111111111111,\"#46039f\"],[0.2222222222222222,\"#7201a8\"],[0.3333333333333333,\"#9c179e\"],[0.4444444444444444,\"#bd3786\"],[0.5555555555555556,\"#d8576b\"],[0.6666666666666666,\"#ed7953\"],[0.7777777777777778,\"#fb9f3a\"],[0.8888888888888888,\"#fdca26\"],[1.0,\"#f0f921\"]],\"sequentialminus\":[[0.0,\"#0d0887\"],[0.1111111111111111,\"#46039f\"],[0.2222222222222222,\"#7201a8\"],[0.3333333333333333,\"#9c179e\"],[0.4444444444444444,\"#bd3786\"],[0.5555555555555556,\"#d8576b\"],[0.6666666666666666,\"#ed7953\"],[0.7777777777777778,\"#fb9f3a\"],[0.8888888888888888,\"#fdca26\"],[1.0,\"#f0f921\"]],\"diverging\":[[0,\"#8e0152\"],[0.1,\"#c51b7d\"],[0.2,\"#de77ae\"],[0.3,\"#f1b6da\"],[0.4,\"#fde0ef\"],[0.5,\"#f7f7f7\"],[0.6,\"#e6f5d0\"],[0.7,\"#b8e186\"],[0.8,\"#7fbc41\"],[0.9,\"#4d9221\"],[1,\"#276419\"]]},\"xaxis\":{\"gridcolor\":\"white\",\"linecolor\":\"white\",\"ticks\":\"\",\"title\":{\"standoff\":15},\"zerolinecolor\":\"white\",\"automargin\":true,\"zerolinewidth\":2},\"yaxis\":{\"gridcolor\":\"white\",\"linecolor\":\"white\",\"ticks\":\"\",\"title\":{\"standoff\":15},\"zerolinecolor\":\"white\",\"automargin\":true,\"zerolinewidth\":2},\"scene\":{\"xaxis\":{\"backgroundcolor\":\"#E5ECF6\",\"gridcolor\":\"white\",\"linecolor\":\"white\",\"showbackground\":true,\"ticks\":\"\",\"zerolinecolor\":\"white\",\"gridwidth\":2},\"yaxis\":{\"backgroundcolor\":\"#E5ECF6\",\"gridcolor\":\"white\",\"linecolor\":\"white\",\"showbackground\":true,\"ticks\":\"\",\"zerolinecolor\":\"white\",\"gridwidth\":2},\"zaxis\":{\"backgroundcolor\":\"#E5ECF6\",\"gridcolor\":\"white\",\"linecolor\":\"white\",\"showbackground\":true,\"ticks\":\"\",\"zerolinecolor\":\"white\",\"gridwidth\":2}},\"shapedefaults\":{\"line\":{\"color\":\"#2a3f5f\"}},\"annotationdefaults\":{\"arrowcolor\":\"#2a3f5f\",\"arrowhead\":0,\"arrowwidth\":1},\"geo\":{\"bgcolor\":\"white\",\"landcolor\":\"#E5ECF6\",\"subunitcolor\":\"white\",\"showland\":true,\"showlakes\":true,\"lakecolor\":\"white\"},\"title\":{\"x\":0.05},\"mapbox\":{\"style\":\"light\"}}},\"xaxis\":{\"anchor\":\"y\",\"domain\":[0.0,1.0],\"title\":{\"text\":\"DIVISION\"}},\"yaxis\":{\"anchor\":\"x\",\"domain\":[0.0,1.0],\"title\":{\"text\":\"TRAFFIC\"}},\"legend\":{\"tracegroupgap\":0},\"title\":{\"text\":\"Deneme Title\"},\"barmode\":\"relative\",\"height\":400,\"width\":600},                        {\"responsive\": true}                    ).then(function(){\n",
       "                            \n",
       "var gd = document.getElementById('ff7df0e1-abc3-43fb-8aea-fc07862bc1f2');\n",
       "var x = new MutationObserver(function (mutations, observer) {{\n",
       "        var display = window.getComputedStyle(gd).display;\n",
       "        if (!display || display === 'none') {{\n",
       "            console.log([gd, 'removed!']);\n",
       "            Plotly.purge(gd);\n",
       "            observer.disconnect();\n",
       "        }}\n",
       "}});\n",
       "\n",
       "// Listen for the removal of the full notebook cells\n",
       "var notebookContainer = gd.closest('#notebook-container');\n",
       "if (notebookContainer) {{\n",
       "    x.observe(notebookContainer, {childList: true});\n",
       "}}\n",
       "\n",
       "// Listen for the clearing of the current output cell\n",
       "var outputEl = gd.closest('.output');\n",
       "if (outputEl) {{\n",
       "    x.observe(outputEl, {childList: true});\n",
       "}}\n",
       "\n",
       "                        })                };                });            </script>        </div>"
      ]
     },
     "metadata": {},
     "output_type": "display_data"
    }
   ],
   "source": [
    "px.bar(\n",
    "        data_frame=division,\n",
    "        x='DIVISION',\n",
    "        y='TRAFFIC',\n",
    "        text_auto=True,\n",
    "        title='Deneme Title',\n",
    "        width=600, height=400\n",
    "        )\n"
   ]
  },
  {
   "cell_type": "markdown",
   "metadata": {},
   "source": [
    "fig = px.bar(df, x=\"DIVISION\", y=\"TRAFFIC\", color=\"LINENAME\", title=\"TRAFFIC by DIVISION with each LINENAME\")\n",
    "fig.show()"
   ]
  }
 ],
 "metadata": {
  "colab": {
   "collapsed_sections": [],
   "provenance": [],
   "toc_visible": true
  },
  "kernelspec": {
   "display_name": "Python 3 (ipykernel)",
   "language": "python",
   "name": "python3"
  },
  "language_info": {
   "codemirror_mode": {
    "name": "ipython",
    "version": 3
   },
   "file_extension": ".py",
   "mimetype": "text/x-python",
   "name": "python",
   "nbconvert_exporter": "python",
   "pygments_lexer": "ipython3",
   "version": "3.11.1"
  }
 },
 "nbformat": 4,
 "nbformat_minor": 1
}
